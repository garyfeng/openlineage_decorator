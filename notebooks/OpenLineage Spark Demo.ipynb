{
 "cells": [
  {
   "cell_type": "markdown",
   "id": "dce11c33",
   "metadata": {},
   "source": [
    "# OpenLineage-Spark Demo\n",
    "\n",
    "\n",
    "Run the following cells and open Marquez at http://127.0.0.1:3000/\n",
    "\n",
    "### To-dos\n",
    "\n",
    "- how do you add facets and additional details (e.g., the pyspark code, the source csv filename, etc.?\n",
    "- how to you set the namespace for the events? While we have `.config('spark.openlineage.namespace', 'spark_integration')` for the code, the datasets show up in the `files` namespace in Marquez. "
   ]
  },
  {
   "cell_type": "code",
   "execution_count": null,
   "id": "fb7d3d6a",
   "metadata": {},
   "outputs": [],
   "source": [
    "!pip install python-dotenv"
   ]
  },
  {
   "cell_type": "code",
   "execution_count": null,
   "id": "88e8ac06",
   "metadata": {},
   "outputs": [],
   "source": [
    "import os\n",
    "from dotenv import load_dotenv\n",
    "\n",
    "load_dotenv() # add this line\n",
    "MARQUEZ_HOST = os.getenv('MARQUEZ_HOST')\n",
    "MARQUEZ_PORT = os.getenv('MARQUEZ_PORT')\n",
    "OL_URL = 'https://{}:{}'.format(MARQUEZ_HOST,MARQUEZ_PORT)\n",
    "# for whatever reason using the env var is not working THIS notebook, for Spark integration only\n",
    "# this works on another project; and this OL_URL works using `maraquez_client`. Go figure. \n",
    "# For now, manually find the IP of your host machine (ifconfig or ipconfig for Windows) and find your IP\n",
    "# You should be able to see Jupyter notebook by replacing your \"localhost\" or \"127.0.0.1\" with that IP.\n",
    "OL_URL = \"http://192.168.86.39:5000\"\n",
    "print('OpenLineage URL = {}'.format(OL_URL))"
   ]
  },
  {
   "cell_type": "code",
   "execution_count": null,
   "id": "cbea3d29",
   "metadata": {
    "scrolled": true
   },
   "outputs": [],
   "source": [
    "from pyspark.sql import SparkSession\n",
    "import urllib.request\n",
    "\n",
    "# Set these to your own project and bucket\n",
    "spark = (SparkSession.builder.master('local').appName('openlineage_spark_demo')\n",
    "             # Install and set up the OpenLineage listener\n",
    "             #.config('spark.jars.packages', 'io.openlineage:openlineage-spark:0.3.+')\n",
    "             .config('spark.jars.packages', 'io.openlineage:openlineage-spark:0.6.0')\n",
    "             .config('spark.extraListeners', 'io.openlineage.spark.agent.OpenLineageSparkListener')\n",
    "             .config('spark.openlineage.host', OL_URL)\n",
    "             .config('spark.openlineage.namespace', 'spark_integration')\n",
    "             .getOrCreate())"
   ]
  },
  {
   "cell_type": "markdown",
   "id": "dd90b425",
   "metadata": {},
   "source": [
    "# Testing Local Read"
   ]
  },
  {
   "cell_type": "code",
   "execution_count": null,
   "id": "090fa313",
   "metadata": {},
   "outputs": [],
   "source": [
    "# Looks like spark.read doesn't trigger an OpenLineage event? Shouldn't we track reads as well?\n",
    "df = spark.read.format(\"csv\").option(\"header\",True).load(\"test.csv\")\n",
    "df.show()"
   ]
  },
  {
   "cell_type": "code",
   "execution_count": null,
   "id": "2cf57062",
   "metadata": {},
   "outputs": [],
   "source": [
    "# note that this triggers a OpenLineage event with data source as \"Notebooks\", as opposed to test.csv\n",
    "# seem to be a bug\n",
    "\n",
    "df.groupBy('dependency').count().write.option(\"header\",True).mode(\"overwrite\").csv(\"dependency_count.csv\")\n"
   ]
  },
  {
   "cell_type": "code",
   "execution_count": null,
   "id": "3d08dcbc",
   "metadata": {},
   "outputs": [],
   "source": [
    "# what if we break this op up\n",
    "df1 = df.groupBy('dependency').count()\n",
    "df1.write.option(\"header\",True).mode(\"overwrite\").csv(\"dependency_count2.csv\")\n"
   ]
  },
  {
   "cell_type": "code",
   "execution_count": null,
   "id": "81692ae4",
   "metadata": {},
   "outputs": [],
   "source": [
    "df1.write.option(\"header\",True).mode(\"overwrite\").csv(\"dependency_count3.csv\")\n"
   ]
  },
  {
   "cell_type": "code",
   "execution_count": null,
   "id": "18b0dc50",
   "metadata": {},
   "outputs": [],
   "source": [
    "rownum = df.count()\n",
    "spark.sparkContext.parallelize([rownum]).coalesce(1).saveAsTextFile(\"rownum.txt\")"
   ]
  },
  {
   "cell_type": "markdown",
   "id": "d412eadc",
   "metadata": {},
   "source": [
    "# Junk code below"
   ]
  },
  {
   "cell_type": "code",
   "execution_count": null,
   "id": "67a7ca4e",
   "metadata": {},
   "outputs": [],
   "source": [
    "type(None)"
   ]
  },
  {
   "cell_type": "code",
   "execution_count": null,
   "id": "a094f605",
   "metadata": {},
   "outputs": [],
   "source": []
  },
  {
   "cell_type": "code",
   "execution_count": null,
   "id": "88cb1481",
   "metadata": {},
   "outputs": [],
   "source": [
    "df.dtypes"
   ]
  },
  {
   "cell_type": "code",
   "execution_count": null,
   "id": "c2e9ff3f",
   "metadata": {},
   "outputs": [],
   "source": [
    "df.schema.fields"
   ]
  },
  {
   "cell_type": "code",
   "execution_count": null,
   "id": "06c44272",
   "metadata": {},
   "outputs": [],
   "source": [
    "from pyspark.sql import DataFrame\n",
    "from pyspark.rdd import RDD\n",
    "\n",
    "def foo(x):\n",
    "    if isinstance(x, RDD):\n",
    "        return \"RDD\"\n",
    "    if isinstance(x, DataFrame):\n",
    "        return \"DataFrame\"\n",
    "\n",
    "print(foo(spark.sparkContext.parallelize([])))\n",
    "## 'RDD'\n",
    "print(foo(spark.sparkContext.parallelize([(\"foo\", 1)]).toDF()))\n",
    "## 'DataFrame'\n",
    "\n",
    "#isinstance(df, \"pyspark.sql.dataframe.DataFrame\")"
   ]
  },
  {
   "cell_type": "code",
   "execution_count": null,
   "id": "9b7f0acc",
   "metadata": {},
   "outputs": [],
   "source": [
    "!pip install marquez-python"
   ]
  },
  {
   "cell_type": "code",
   "execution_count": null,
   "id": "5d2ab20a",
   "metadata": {},
   "outputs": [],
   "source": [
    "from marquez_client import MarquezClient\n",
    "\n",
    "client = MarquezClient(url=OL_URL)\n",
    "\n",
    "# list namespaces\n",
    "client.list_namespaces()\n"
   ]
  },
  {
   "cell_type": "code",
   "execution_count": null,
   "id": "0d836cd6",
   "metadata": {},
   "outputs": [],
   "source": []
  },
  {
   "cell_type": "code",
   "execution_count": null,
   "id": "5b3efecb",
   "metadata": {},
   "outputs": [],
   "source": []
  },
  {
   "cell_type": "code",
   "execution_count": null,
   "id": "71c084af",
   "metadata": {},
   "outputs": [],
   "source": [
    "!pip install openlineage-python"
   ]
  },
  {
   "cell_type": "code",
   "execution_count": null,
   "id": "b271b55a",
   "metadata": {},
   "outputs": [],
   "source": [
    "from openlineage.client.client import OpenLineageClient\n",
    "from openlineage.client.run import RunEvent, RunState, Run, Job\n",
    "from unittest.mock import MagicMock\n",
    "\n",
    "session = MagicMock()\n",
    "client = OpenLineageClient(url=\"http://192.168.86.39:5000\", session=None)\n",
    "\n",
    "client.emit(\n",
    "    RunEvent(\n",
    "        RunState.START,\n",
    "        \"2020-01-01\",\n",
    "        Run(\"69f4acab-b87d-4fc0-b27b-8ea950370ff3\"),\n",
    "        Job(\"openlineage\", \"job\"),\n",
    "        \"producer\"\n",
    "    )\n",
    ")"
   ]
  },
  {
   "cell_type": "code",
   "execution_count": null,
   "id": "0370465c",
   "metadata": {},
   "outputs": [],
   "source": [
    "session.post.assert_called_with(\n",
    "    \"http://marquez-api2:5000/api/v1/lineage\",\n",
    "    '{\"eventTime\": \"2020-01-01\", \"eventType\": \"START\", \"inputs\": [], \"job\": '\n",
    "    '{\"facets\": {}, \"name\": \"job\", \"namespace\": \"openlineage\"}, \"outputs\": [], '\n",
    "    '\"producer\": \"producer\", \"run\": {\"facets\": {}, \"runId\": '\n",
    "    '\"69f4acab-b87d-4fc0-b27b-8ea950370ff3\"}}',\n",
    "    timeout=5.0,\n",
    "    verify=True\n",
    ")"
   ]
  },
  {
   "cell_type": "code",
   "execution_count": null,
   "id": "d3a2265f",
   "metadata": {},
   "outputs": [],
   "source": [
    "from openlineage.client import constants\n",
    "from openlineage.client.run import RunEvent\n",
    "from openlineage.client.serde import Serde\n",
    "\n",
    "import requests\n",
    "url = 'http://192.168.86.39:5000/api/v1/lineage'\n",
    "url = OL_URL +\"/api/v1/lineage\"\n",
    "headers = {\"charset\": \"utf-8\", \"Content-Type\": \"application/json\"}\n"
   ]
  },
  {
   "cell_type": "code",
   "execution_count": null,
   "id": "5027a056",
   "metadata": {},
   "outputs": [],
   "source": [
    "data = \"\"\"{\n",
    "        \"eventType\": \"START\",\n",
    "        \"eventTime\": \"2020-12-28T19:52:00.001+10:00\",\n",
    "        \"run\": {\n",
    "          \"runId\": \"d46e465b-d358-4d32-83d4-df660ff614dd\"\n",
    "        },\n",
    "        \"job\": {\n",
    "          \"namespace\": \"gary-namespace\",\n",
    "          \"name\": \"my-job\"\n",
    "        },\n",
    "        \"inputs\": [{\n",
    "          \"namespace\": \"gary-namespace\",\n",
    "          \"name\": \"my-input\"\n",
    "        }],  \n",
    "        \"producer\": \"https://github.com/OpenLineage/OpenLineage/blob/v1-0-0/client\"\n",
    "      }\"\"\"\n",
    "r = requests.post(url, data=data, headers=headers)\n",
    "r.ok"
   ]
  },
  {
   "cell_type": "code",
   "execution_count": null,
   "id": "f435340c",
   "metadata": {},
   "outputs": [],
   "source": [
    "data2 = \"\"\"{\n",
    "        \"eventType\": \"COMPLETE\",\n",
    "        \"eventTime\": \"2020-12-28T20:52:00.001+10:00\",\n",
    "        \"run\": {\n",
    "          \"runId\": \"d46e465b-d358-4d32-83d4-df660ff614dd\"\n",
    "        },\n",
    "        \"job\": {\n",
    "          \"namespace\": \"gary-namespace\",\n",
    "          \"name\": \"my-job\"\n",
    "        },\n",
    "        \"outputs\": [{\n",
    "          \"namespace\": \"gary-namespace\",\n",
    "          \"name\": \"my-output\",\n",
    "          \"facets\": {\n",
    "            \"schema\": {\n",
    "              \"_producer\": \"https://github.com/OpenLineage/OpenLineage/blob/v1-0-0/client\",\n",
    "              \"_schemaURL\": \"https://github.com/OpenLineage/OpenLineage/blob/v1-0-0/spec/OpenLineage.json#/definitions/SchemaDatasetFacet\",\n",
    "              \"fields\": [\n",
    "                { \"name\": \"a\", \"type\": \"VARCHAR\"},\n",
    "                { \"name\": \"b\", \"type\": \"VARCHAR\"}\n",
    "              ]\n",
    "            }\n",
    "          }\n",
    "        }],     \n",
    "        \"producer\": \"https://github.com/OpenLineage/OpenLineage/blob/v1-0-0/client\"\n",
    "      }\"\"\"\n",
    "\n",
    "r = requests.post(url, data=data2, headers=headers)\n",
    "r.ok"
   ]
  },
  {
   "cell_type": "code",
   "execution_count": null,
   "id": "5b19cf32",
   "metadata": {},
   "outputs": [],
   "source": []
  }
 ],
 "metadata": {
  "kernelspec": {
   "display_name": "Python 3 (ipykernel)",
   "language": "python",
   "name": "python3"
  },
  "language_info": {
   "codemirror_mode": {
    "name": "ipython",
    "version": 3
   },
   "file_extension": ".py",
   "mimetype": "text/x-python",
   "name": "python",
   "nbconvert_exporter": "python",
   "pygments_lexer": "ipython3",
   "version": "3.9.7"
  }
 },
 "nbformat": 4,
 "nbformat_minor": 5
}
