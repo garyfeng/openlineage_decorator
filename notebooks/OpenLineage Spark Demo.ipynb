{
 "cells": [
  {
   "cell_type": "markdown",
   "id": "dce11c33",
   "metadata": {},
   "source": [
    "# OpenLineage-Spark Demo\n",
    "\n",
    "\n",
    "Run the following cells and open Marquez at http://127.0.0.1:3000/\n",
    "\n",
    "### To-dos\n",
    "\n",
    "- how do you add facets and additional details (e.g., the pyspark code, the source csv filename, etc.?\n",
    "- how to you set the namespace for the events? While we have `.config('spark.openlineage.namespace', 'spark_integration')` for the code, the datasets show up in the `files` namespace in Marquez. "
   ]
  },
  {
   "cell_type": "code",
   "execution_count": 1,
   "id": "cbea3d29",
   "metadata": {
    "scrolled": true
   },
   "outputs": [
    {
     "name": "stderr",
     "output_type": "stream",
     "text": [
      "WARNING: An illegal reflective access operation has occurred\n",
      "WARNING: Illegal reflective access by org.apache.spark.unsafe.Platform (file:/usr/local/spark-3.1.2-bin-hadoop3.2/jars/spark-unsafe_2.12-3.1.2.jar) to constructor java.nio.DirectByteBuffer(long,int)\n",
      "WARNING: Please consider reporting this to the maintainers of org.apache.spark.unsafe.Platform\n",
      "WARNING: Use --illegal-access=warn to enable warnings of further illegal reflective access operations\n",
      "WARNING: All illegal access operations will be denied in a future release\n"
     ]
    },
    {
     "name": "stdout",
     "output_type": "stream",
     "text": [
      ":: loading settings :: url = jar:file:/usr/local/spark-3.1.2-bin-hadoop3.2/jars/ivy-2.4.0.jar!/org/apache/ivy/core/settings/ivysettings.xml\n"
     ]
    },
    {
     "name": "stderr",
     "output_type": "stream",
     "text": [
      "Ivy Default Cache set to: /home/jovyan/.ivy2/cache\n",
      "The jars for the packages stored in: /home/jovyan/.ivy2/jars\n",
      "io.openlineage#openlineage-spark added as a dependency\n",
      ":: resolving dependencies :: org.apache.spark#spark-submit-parent-383cfea6-3cfd-4622-8b6b-d4781fd6bc4a;1.0\n",
      "\tconfs: [default]\n",
      "\tfound io.openlineage#openlineage-spark;0.6.0 in central\n",
      "\tfound io.openlineage#openlineage-java;0.6.0 in central\n",
      "\tfound org.javassist#javassist;3.27.0-GA in central\n",
      "\tfound org.apache.httpcomponents.client5#httpclient5;5.0.3 in central\n",
      "\tfound org.apache.httpcomponents.core5#httpcore5;5.0.2 in central\n",
      "\tfound org.apache.httpcomponents.core5#httpcore5-h2;5.0.2 in central\n",
      "\tfound org.slf4j#slf4j-api;1.7.25 in central\n",
      "\tfound commons-codec#commons-codec;1.13 in central\n",
      "\tfound com.fasterxml.jackson.datatype#jackson-datatype-jsr310;2.6.7 in central\n",
      ":: resolution report :: resolve 422ms :: artifacts dl 20ms\n",
      "\t:: modules in use:\n",
      "\tcom.fasterxml.jackson.datatype#jackson-datatype-jsr310;2.6.7 from central in [default]\n",
      "\tcommons-codec#commons-codec;1.13 from central in [default]\n",
      "\tio.openlineage#openlineage-java;0.6.0 from central in [default]\n",
      "\tio.openlineage#openlineage-spark;0.6.0 from central in [default]\n",
      "\torg.apache.httpcomponents.client5#httpclient5;5.0.3 from central in [default]\n",
      "\torg.apache.httpcomponents.core5#httpcore5;5.0.2 from central in [default]\n",
      "\torg.apache.httpcomponents.core5#httpcore5-h2;5.0.2 from central in [default]\n",
      "\torg.javassist#javassist;3.27.0-GA from central in [default]\n",
      "\torg.slf4j#slf4j-api;1.7.25 from central in [default]\n",
      "\t---------------------------------------------------------------------\n",
      "\t|                  |            modules            ||   artifacts   |\n",
      "\t|       conf       | number| search|dwnlded|evicted|| number|dwnlded|\n",
      "\t---------------------------------------------------------------------\n",
      "\t|      default     |   9   |   0   |   0   |   0   ||   8   |   0   |\n",
      "\t---------------------------------------------------------------------\n",
      ":: retrieving :: org.apache.spark#spark-submit-parent-383cfea6-3cfd-4622-8b6b-d4781fd6bc4a\n",
      "\tconfs: [default]\n",
      "\t0 artifacts copied, 8 already retrieved (0kB/16ms)\n",
      "22/04/02 02:08:34 WARN NativeCodeLoader: Unable to load native-hadoop library for your platform... using builtin-java classes where applicable\n",
      "Using Spark's default log4j profile: org/apache/spark/log4j-defaults.properties\n",
      "Setting default log level to \"WARN\".\n",
      "To adjust logging level use sc.setLogLevel(newLevel). For SparkR, use setLogLevel(newLevel).\n"
     ]
    }
   ],
   "source": [
    "from pyspark.sql import SparkSession\n",
    "import urllib.request\n",
    "\n",
    "# Set these to your own project and bucket\n",
    "spark = (SparkSession.builder.master('local').appName('openlineage_spark_demo')\n",
    "             # Install and set up the OpenLineage listener\n",
    "             #.config('spark.jars.packages', 'io.openlineage:openlineage-spark:0.3.+')\n",
    "             .config('spark.jars.packages', 'io.openlineage:openlineage-spark:0.6.0')\n",
    "             .config('spark.extraListeners', 'io.openlineage.spark.agent.OpenLineageSparkListener')\n",
    "             .config('spark.openlineage.host', 'http://marquez_api:5000')\n",
    "             .config('spark.openlineage.namespace', 'spark_integration')\n",
    "             .getOrCreate())"
   ]
  },
  {
   "cell_type": "markdown",
   "id": "dd90b425",
   "metadata": {},
   "source": [
    "# Testing Local Read"
   ]
  },
  {
   "cell_type": "code",
   "execution_count": 2,
   "id": "090fa313",
   "metadata": {},
   "outputs": [
    {
     "name": "stderr",
     "output_type": "stream",
     "text": [
      "22/04/02 02:08:44 ERROR EventEmitter: Could not emit lineage: {\"eventType\":\"START\",\"eventTime\":\"2022-04-02T02:08:42.847Z\",\"run\":{\"runId\":\"41ead379-b1fe-495c-a934-a8cc30fe1459\",\"facets\":{\"spark_version\":{\"_producer\":\"https://github.com/OpenLineage/OpenLineage/tree/0.6.0/integration/spark\",\"_schemaURL\":\"https://openlineage.io/spec/1-0-2/OpenLineage.json#/$defs/RunFacet\",\"spark-version\":\"3.1.2\",\"openlineage-spark-version\":\"0.6.0\"},\"spark.logicalPlan\":{\"_producer\":\"https://github.com/OpenLineage/OpenLineage/tree/0.6.0/integration/spark\",\"_schemaURL\":\"https://openlineage.io/spec/1-0-2/OpenLineage.json#/$defs/RunFacet\",\"plan\":[{\"class\":\"org.apache.spark.sql.catalyst.plans.logical.GlobalLimit\",\"num-children\":1,\"limitExpr\":[{\"class\":\"org.apache.spark.sql.catalyst.expressions.Literal\",\"num-children\":0,\"value\":\"1\",\"dataType\":\"integer\"}],\"child\":0},{\"class\":\"org.apache.spark.sql.catalyst.plans.logical.LocalLimit\",\"num-children\":1,\"limitExpr\":[{\"class\":\"org.apache.spark.sql.catalyst.expressions.Literal\",\"num-children\":0,\"value\":\"1\",\"dataType\":\"integer\"}],\"child\":0},{\"class\":\"org.apache.spark.sql.catalyst.plans.logical.Filter\",\"num-children\":1,\"condition\":[{\"class\":\"org.apache.spark.sql.catalyst.expressions.GreaterThan\",\"num-children\":2,\"left\":0,\"right\":1},{\"class\":\"org.apache.spark.sql.catalyst.expressions.Length\",\"num-children\":1,\"child\":0},{\"class\":\"org.apache.spark.sql.catalyst.expressions.StringTrim\",\"num-children\":1,\"srcStr\":0},{\"class\":\"org.apache.spark.sql.catalyst.expressions.AttributeReference\",\"num-children\":0,\"name\":\"value\",\"dataType\":\"string\",\"nullable\":true,\"metadata\":{},\"exprId\":{\"product-class\":\"org.apache.spark.sql.catalyst.expressions.ExprId\",\"id\":0,\"jvmId\":\"db8adb81-ffc4-4a95-9a9c-86d701eed7a7\"},\"qualifier\":[]},{\"class\":\"org.apache.spark.sql.catalyst.expressions.Literal\",\"num-children\":0,\"value\":\"0\",\"dataType\":\"integer\"}],\"child\":0},{\"class\":\"org.apache.spark.sql.execution.datasources.LogicalRelation\",\"num-children\":0,\"relation\":null,\"output\":[[{\"class\":\"org.apache.spark.sql.catalyst.expressions.AttributeReference\",\"num-children\":0,\"name\":\"value\",\"dataType\":\"string\",\"nullable\":true,\"metadata\":{},\"exprId\":{\"product-class\":\"org.apache.spark.sql.catalyst.expressions.ExprId\",\"id\":0,\"jvmId\":\"db8adb81-ffc4-4a95-9a9c-86d701eed7a7\"},\"qualifier\":[]}]],\"isStreaming\":false}]},\"spark_unknown\":{\"_producer\":\"https://github.com/OpenLineage/OpenLineage/tree/0.6.0/integration/spark\",\"_schemaURL\":\"https://openlineage.io/spec/1-0-2/OpenLineage.json#/$defs/RunFacet\",\"output\":{\"description\":{\"@class\":\"org.apache.spark.sql.catalyst.plans.logical.GlobalLimit\",\"id\":1,\"limitExpr\":{\"id\":2,\"value\":1,\"dataType\":\"integer\",\"origin\":{\"id\":3,\"line\":null,\"startPosition\":null},\"deterministic\":true,\"resolved\":true},\"origin\":3,\"schema\":{\"type\":\"struct\",\"fields\":[{\"name\":\"value\",\"type\":\"string\",\"nullable\":true,\"metadata\":{}}]},\"allAttributes\":{\"id\":4,\"attrs\":[{\"id\":5,\"name\":\"value\",\"dataType\":\"string\",\"nullable\":true,\"metadata\":{\"id\":6,\"map\":{}},\"exprId\":{\"id\":7,\"id\":0,\"jvmId\":\"db8adb81-ffc4-4a95-9a9c-86d701eed7a7\"},\"qualifier\":[],\"origin\":{\"id\":8,\"line\":null,\"startPosition\":null},\"deterministic\":true,\"resolved\":true}]},\"resolved\":true,\"validConstraints\":[{\"id\":9,\"left\":{\"id\":10,\"origin\":{\"id\":11,\"line\":null,\"startPosition\":null},\"deterministic\":true,\"resolved\":true},\"right\":{\"id\":12,\"value\":0,\"dataType\":\"integer\",\"origin\":11,\"deterministic\":true,\"resolved\":true},\"origin\":11,\"deterministic\":true,\"resolved\":true,\"ordering\":{\"id\":13}}],\"statsCache\":null,\"streaming\":false,\"traceEnabled\":false,\"canonicalizedPlan\":false},\"inputAttributes\":[{\"name\":\"value\",\"type\":\"string\",\"metadata\":{}}],\"outputAttributes\":[{\"name\":\"value\",\"type\":\"string\",\"metadata\":{}}]},\"inputs\":[]}}},\"job\":{\"namespace\":\"spark_integration\",\"name\":\"openlineage_spark_demo.collect_limit\",\"facets\":{}},\"inputs\":[{\"namespace\":\"file\",\"name\":\"/home/jovyan/notebooks\",\"facets\":{\"dataSource\":{\"_producer\":\"https://github.com/OpenLineage/OpenLineage/tree/0.6.0/integration/spark\",\"_schemaURL\":\"https://openlineage.io/spec/facets/1-0-0/DatasourceDatasetFacet.json#/$defs/DatasourceDatasetFacet\",\"name\":\"file\",\"uri\":\"file\"},\"schema\":{\"_producer\":\"https://github.com/OpenLineage/OpenLineage/tree/0.6.0/integration/spark\",\"_schemaURL\":\"https://openlineage.io/spec/facets/1-0-0/SchemaDatasetFacet.json#/$defs/SchemaDatasetFacet\",\"fields\":[{\"name\":\"value\",\"type\":\"string\"}]}},\"inputFacets\":{}}],\"outputs\":[],\"producer\":\"https://github.com/OpenLineage/OpenLineage/tree/0.6.0/integration/spark\",\"schemaURL\":\"https://openlineage.io/spec/1-0-2/OpenLineage.json#/$defs/RunEvent\"}\n",
      "OpenLineageHttpException(code=0, message=java.lang.RuntimeException: java.util.concurrent.ExecutionException: openlineage.hc.core5.http.ProtocolException: Target host is not specified, details=java.util.concurrent.CompletionException: java.lang.RuntimeException: java.util.concurrent.ExecutionException: openlineage.hc.core5.http.ProtocolException: Target host is not specified)\n",
      "\tat io.openlineage.spark.agent.EventEmitter.emit(EventEmitter.java:67)\n",
      "\tat io.openlineage.spark.agent.lifecycle.SparkSQLExecutionContext.start(SparkSQLExecutionContext.java:69)\n",
      "\tat io.openlineage.spark.agent.OpenLineageSparkListener.sparkSQLExecStart(OpenLineageSparkListener.java:144)\n",
      "\tat io.openlineage.spark.agent.OpenLineageSparkListener.onOtherEvent(OpenLineageSparkListener.java:135)\n",
      "\tat org.apache.spark.scheduler.SparkListenerBus.doPostEvent(SparkListenerBus.scala:100)\n",
      "\tat org.apache.spark.scheduler.SparkListenerBus.doPostEvent$(SparkListenerBus.scala:28)\n",
      "\tat org.apache.spark.scheduler.AsyncEventQueue.doPostEvent(AsyncEventQueue.scala:37)\n",
      "\tat org.apache.spark.scheduler.AsyncEventQueue.doPostEvent(AsyncEventQueue.scala:37)\n",
      "\tat org.apache.spark.util.ListenerBus.postToAll(ListenerBus.scala:117)\n",
      "\tat org.apache.spark.util.ListenerBus.postToAll$(ListenerBus.scala:101)\n",
      "\tat org.apache.spark.scheduler.AsyncEventQueue.super$postToAll(AsyncEventQueue.scala:105)\n",
      "\tat org.apache.spark.scheduler.AsyncEventQueue.$anonfun$dispatch$1(AsyncEventQueue.scala:105)\n",
      "\tat scala.runtime.java8.JFunction0$mcJ$sp.apply(JFunction0$mcJ$sp.java:23)\n",
      "\tat scala.util.DynamicVariable.withValue(DynamicVariable.scala:62)\n",
      "\tat org.apache.spark.scheduler.AsyncEventQueue.org$apache$spark$scheduler$AsyncEventQueue$$dispatch(AsyncEventQueue.scala:100)\n",
      "\tat org.apache.spark.scheduler.AsyncEventQueue$$anon$2.$anonfun$run$1(AsyncEventQueue.scala:96)\n",
      "\tat org.apache.spark.util.Utils$.tryOrStopSparkContext(Utils.scala:1381)\n",
      "\tat org.apache.spark.scheduler.AsyncEventQueue$$anon$2.run(AsyncEventQueue.scala:96)\n",
      "22/04/02 02:08:44 ERROR EventEmitter: Could not emit lineage: {\"eventType\":\"START\",\"eventTime\":\"2022-04-02T02:08:44.099Z\",\"run\":{\"runId\":\"41ead379-b1fe-495c-a934-a8cc30fe1459\",\"facets\":{\"spark_version\":{\"_producer\":\"https://github.com/OpenLineage/OpenLineage/tree/0.6.0/integration/spark\",\"_schemaURL\":\"https://openlineage.io/spec/1-0-2/OpenLineage.json#/$defs/RunFacet\",\"spark-version\":\"3.1.2\",\"openlineage-spark-version\":\"0.6.0\"},\"spark_unknown\":{\"_producer\":\"https://github.com/OpenLineage/OpenLineage/tree/0.6.0/integration/spark\",\"_schemaURL\":\"https://openlineage.io/spec/1-0-2/OpenLineage.json#/$defs/RunFacet\",\"output\":{\"description\":{\"@class\":\"org.apache.spark.sql.catalyst.plans.logical.GlobalLimit\",\"id\":1,\"limitExpr\":{\"id\":2,\"value\":1,\"dataType\":\"integer\",\"origin\":{\"id\":3,\"line\":null,\"startPosition\":null},\"deterministic\":true,\"resolved\":true},\"origin\":3,\"schema\":{\"type\":\"struct\",\"fields\":[{\"name\":\"value\",\"type\":\"string\",\"nullable\":true,\"metadata\":{}}]},\"allAttributes\":{\"id\":4,\"attrs\":[{\"id\":5,\"name\":\"value\",\"dataType\":\"string\",\"nullable\":true,\"metadata\":{\"id\":6,\"map\":{}},\"exprId\":{\"id\":7,\"id\":0,\"jvmId\":\"db8adb81-ffc4-4a95-9a9c-86d701eed7a7\"},\"qualifier\":[],\"origin\":{\"id\":8,\"line\":null,\"startPosition\":null},\"deterministic\":true,\"resolved\":true}]},\"resolved\":true,\"validConstraints\":[{\"id\":9,\"left\":{\"id\":10,\"origin\":{\"id\":11,\"line\":null,\"startPosition\":null},\"deterministic\":true,\"resolved\":true},\"right\":{\"id\":12,\"value\":0,\"dataType\":\"integer\",\"origin\":11,\"deterministic\":true,\"resolved\":true},\"origin\":11,\"deterministic\":true,\"resolved\":true,\"ordering\":{\"id\":13}}],\"statsCache\":null,\"streaming\":false,\"traceEnabled\":false,\"canonicalizedPlan\":false},\"inputAttributes\":[{\"name\":\"value\",\"type\":\"string\",\"metadata\":{}}],\"outputAttributes\":[{\"name\":\"value\",\"type\":\"string\",\"metadata\":{}}]},\"inputs\":[]}}},\"job\":{\"namespace\":\"spark_integration\",\"name\":\"openlineage_spark_demo.collect_limit\",\"facets\":{}},\"inputs\":[{\"namespace\":\"file\",\"name\":\"/home/jovyan/notebooks\",\"facets\":{\"dataSource\":{\"_producer\":\"https://github.com/OpenLineage/OpenLineage/tree/0.6.0/integration/spark\",\"_schemaURL\":\"https://openlineage.io/spec/facets/1-0-0/DatasourceDatasetFacet.json#/$defs/DatasourceDatasetFacet\",\"name\":\"file\",\"uri\":\"file\"},\"schema\":{\"_producer\":\"https://github.com/OpenLineage/OpenLineage/tree/0.6.0/integration/spark\",\"_schemaURL\":\"https://openlineage.io/spec/facets/1-0-0/SchemaDatasetFacet.json#/$defs/SchemaDatasetFacet\",\"fields\":[{\"name\":\"value\",\"type\":\"string\"}]}},\"inputFacets\":{}}],\"outputs\":[],\"producer\":\"https://github.com/OpenLineage/OpenLineage/tree/0.6.0/integration/spark\",\"schemaURL\":\"https://openlineage.io/spec/1-0-2/OpenLineage.json#/$defs/RunEvent\"}\n",
      "OpenLineageHttpException(code=0, message=java.lang.RuntimeException: java.util.concurrent.ExecutionException: openlineage.hc.core5.http.ProtocolException: Target host is not specified, details=java.util.concurrent.CompletionException: java.lang.RuntimeException: java.util.concurrent.ExecutionException: openlineage.hc.core5.http.ProtocolException: Target host is not specified)\n",
      "\tat io.openlineage.spark.agent.EventEmitter.emit(EventEmitter.java:67)\n",
      "\tat io.openlineage.spark.agent.lifecycle.SparkSQLExecutionContext.start(SparkSQLExecutionContext.java:150)\n",
      "\tat io.openlineage.spark.agent.OpenLineageSparkListener.onJobStart(OpenLineageSparkListener.java:199)\n",
      "\tat org.apache.spark.scheduler.SparkListenerBus.doPostEvent(SparkListenerBus.scala:37)\n",
      "\tat org.apache.spark.scheduler.SparkListenerBus.doPostEvent$(SparkListenerBus.scala:28)\n",
      "\tat org.apache.spark.scheduler.AsyncEventQueue.doPostEvent(AsyncEventQueue.scala:37)\n",
      "\tat org.apache.spark.scheduler.AsyncEventQueue.doPostEvent(AsyncEventQueue.scala:37)\n",
      "\tat org.apache.spark.util.ListenerBus.postToAll(ListenerBus.scala:117)\n",
      "\tat org.apache.spark.util.ListenerBus.postToAll$(ListenerBus.scala:101)\n",
      "\tat org.apache.spark.scheduler.AsyncEventQueue.super$postToAll(AsyncEventQueue.scala:105)\n",
      "\tat org.apache.spark.scheduler.AsyncEventQueue.$anonfun$dispatch$1(AsyncEventQueue.scala:105)\n",
      "\tat scala.runtime.java8.JFunction0$mcJ$sp.apply(JFunction0$mcJ$sp.java:23)\n",
      "\tat scala.util.DynamicVariable.withValue(DynamicVariable.scala:62)\n",
      "\tat org.apache.spark.scheduler.AsyncEventQueue.org$apache$spark$scheduler$AsyncEventQueue$$dispatch(AsyncEventQueue.scala:100)\n",
      "\tat org.apache.spark.scheduler.AsyncEventQueue$$anon$2.$anonfun$run$1(AsyncEventQueue.scala:96)\n",
      "\tat org.apache.spark.util.Utils$.tryOrStopSparkContext(Utils.scala:1381)\n",
      "\tat org.apache.spark.scheduler.AsyncEventQueue$$anon$2.run(AsyncEventQueue.scala:96)\n"
     ]
    },
    {
     "name": "stderr",
     "output_type": "stream",
     "text": [
      "22/04/02 02:08:44 ERROR EventEmitter: Could not emit lineage: {\"eventType\":\"COMPLETE\",\"eventTime\":\"2022-04-02T02:08:44.67Z\",\"run\":{\"runId\":\"41ead379-b1fe-495c-a934-a8cc30fe1459\",\"facets\":{\"spark_version\":{\"_producer\":\"https://github.com/OpenLineage/OpenLineage/tree/0.6.0/integration/spark\",\"_schemaURL\":\"https://openlineage.io/spec/1-0-2/OpenLineage.json#/$defs/RunFacet\",\"spark-version\":\"3.1.2\",\"openlineage-spark-version\":\"0.6.0\"},\"spark.logicalPlan\":{\"_producer\":\"https://github.com/OpenLineage/OpenLineage/tree/0.6.0/integration/spark\",\"_schemaURL\":\"https://openlineage.io/spec/1-0-2/OpenLineage.json#/$defs/RunFacet\",\"plan\":[{\"class\":\"org.apache.spark.sql.catalyst.plans.logical.GlobalLimit\",\"num-children\":1,\"limitExpr\":[{\"class\":\"org.apache.spark.sql.catalyst.expressions.Literal\",\"num-children\":0,\"value\":\"1\",\"dataType\":\"integer\"}],\"child\":0},{\"class\":\"org.apache.spark.sql.catalyst.plans.logical.LocalLimit\",\"num-children\":1,\"limitExpr\":[{\"class\":\"org.apache.spark.sql.catalyst.expressions.Literal\",\"num-children\":0,\"value\":\"1\",\"dataType\":\"integer\"}],\"child\":0},{\"class\":\"org.apache.spark.sql.catalyst.plans.logical.Filter\",\"num-children\":1,\"condition\":[{\"class\":\"org.apache.spark.sql.catalyst.expressions.GreaterThan\",\"num-children\":2,\"left\":0,\"right\":1},{\"class\":\"org.apache.spark.sql.catalyst.expressions.Length\",\"num-children\":1,\"child\":0},{\"class\":\"org.apache.spark.sql.catalyst.expressions.StringTrim\",\"num-children\":1,\"srcStr\":0},{\"class\":\"org.apache.spark.sql.catalyst.expressions.AttributeReference\",\"num-children\":0,\"name\":\"value\",\"dataType\":\"string\",\"nullable\":true,\"metadata\":{},\"exprId\":{\"product-class\":\"org.apache.spark.sql.catalyst.expressions.ExprId\",\"id\":0,\"jvmId\":\"db8adb81-ffc4-4a95-9a9c-86d701eed7a7\"},\"qualifier\":[]},{\"class\":\"org.apache.spark.sql.catalyst.expressions.Literal\",\"num-children\":0,\"value\":\"0\",\"dataType\":\"integer\"}],\"child\":0},{\"class\":\"org.apache.spark.sql.execution.datasources.LogicalRelation\",\"num-children\":0,\"relation\":null,\"output\":[[{\"class\":\"org.apache.spark.sql.catalyst.expressions.AttributeReference\",\"num-children\":0,\"name\":\"value\",\"dataType\":\"string\",\"nullable\":true,\"metadata\":{},\"exprId\":{\"product-class\":\"org.apache.spark.sql.catalyst.expressions.ExprId\",\"id\":0,\"jvmId\":\"db8adb81-ffc4-4a95-9a9c-86d701eed7a7\"},\"qualifier\":[]}]],\"isStreaming\":false}]},\"spark_unknown\":{\"_producer\":\"https://github.com/OpenLineage/OpenLineage/tree/0.6.0/integration/spark\",\"_schemaURL\":\"https://openlineage.io/spec/1-0-2/OpenLineage.json#/$defs/RunFacet\",\"output\":{\"description\":{\"@class\":\"org.apache.spark.sql.catalyst.plans.logical.GlobalLimit\",\"id\":1,\"limitExpr\":{\"id\":2,\"value\":1,\"dataType\":\"integer\",\"origin\":{\"id\":3,\"line\":null,\"startPosition\":null},\"deterministic\":true,\"resolved\":true},\"origin\":3,\"schema\":{\"type\":\"struct\",\"fields\":[{\"name\":\"value\",\"type\":\"string\",\"nullable\":true,\"metadata\":{}}]},\"allAttributes\":{\"id\":4,\"attrs\":[{\"id\":5,\"name\":\"value\",\"dataType\":\"string\",\"nullable\":true,\"metadata\":{\"id\":6,\"map\":{}},\"exprId\":{\"id\":7,\"id\":0,\"jvmId\":\"db8adb81-ffc4-4a95-9a9c-86d701eed7a7\"},\"qualifier\":[],\"origin\":{\"id\":8,\"line\":null,\"startPosition\":null},\"deterministic\":true,\"resolved\":true}]},\"resolved\":true,\"validConstraints\":[{\"id\":9,\"left\":{\"id\":10,\"origin\":{\"id\":11,\"line\":null,\"startPosition\":null},\"deterministic\":true,\"resolved\":true},\"right\":{\"id\":12,\"value\":0,\"dataType\":\"integer\",\"origin\":11,\"deterministic\":true,\"resolved\":true},\"origin\":11,\"deterministic\":true,\"resolved\":true,\"ordering\":{\"id\":13}}],\"statsCache\":null,\"streaming\":false,\"traceEnabled\":false,\"canonicalizedPlan\":false},\"inputAttributes\":[{\"name\":\"value\",\"type\":\"string\",\"metadata\":{}}],\"outputAttributes\":[{\"name\":\"value\",\"type\":\"string\",\"metadata\":{}}]},\"inputs\":[]}}},\"job\":{\"namespace\":\"spark_integration\",\"name\":\"openlineage_spark_demo.collect_limit\",\"facets\":{}},\"inputs\":[{\"namespace\":\"file\",\"name\":\"/home/jovyan/notebooks\",\"facets\":{\"dataSource\":{\"_producer\":\"https://github.com/OpenLineage/OpenLineage/tree/0.6.0/integration/spark\",\"_schemaURL\":\"https://openlineage.io/spec/facets/1-0-0/DatasourceDatasetFacet.json#/$defs/DatasourceDatasetFacet\",\"name\":\"file\",\"uri\":\"file\"},\"schema\":{\"_producer\":\"https://github.com/OpenLineage/OpenLineage/tree/0.6.0/integration/spark\",\"_schemaURL\":\"https://openlineage.io/spec/facets/1-0-0/SchemaDatasetFacet.json#/$defs/SchemaDatasetFacet\",\"fields\":[{\"name\":\"value\",\"type\":\"string\"}]}},\"inputFacets\":{}}],\"outputs\":[],\"producer\":\"https://github.com/OpenLineage/OpenLineage/tree/0.6.0/integration/spark\",\"schemaURL\":\"https://openlineage.io/spec/1-0-2/OpenLineage.json#/$defs/RunEvent\"}\n",
      "OpenLineageHttpException(code=0, message=java.lang.RuntimeException: java.util.concurrent.ExecutionException: openlineage.hc.core5.http.ProtocolException: Target host is not specified, details=java.util.concurrent.CompletionException: java.lang.RuntimeException: java.util.concurrent.ExecutionException: openlineage.hc.core5.http.ProtocolException: Target host is not specified)\n",
      "\tat io.openlineage.spark.agent.EventEmitter.emit(EventEmitter.java:67)\n",
      "\tat io.openlineage.spark.agent.lifecycle.SparkSQLExecutionContext.end(SparkSQLExecutionContext.java:174)\n",
      "\tat io.openlineage.spark.agent.OpenLineageSparkListener.onJobEnd(OpenLineageSparkListener.java:210)\n",
      "\tat org.apache.spark.scheduler.SparkListenerBus.doPostEvent(SparkListenerBus.scala:39)\n",
      "\tat org.apache.spark.scheduler.SparkListenerBus.doPostEvent$(SparkListenerBus.scala:28)\n",
      "\tat org.apache.spark.scheduler.AsyncEventQueue.doPostEvent(AsyncEventQueue.scala:37)\n",
      "\tat org.apache.spark.scheduler.AsyncEventQueue.doPostEvent(AsyncEventQueue.scala:37)\n",
      "\tat org.apache.spark.util.ListenerBus.postToAll(ListenerBus.scala:117)\n",
      "\tat org.apache.spark.util.ListenerBus.postToAll$(ListenerBus.scala:101)\n",
      "\tat org.apache.spark.scheduler.AsyncEventQueue.super$postToAll(AsyncEventQueue.scala:105)\n",
      "\tat org.apache.spark.scheduler.AsyncEventQueue.$anonfun$dispatch$1(AsyncEventQueue.scala:105)\n",
      "\tat scala.runtime.java8.JFunction0$mcJ$sp.apply(JFunction0$mcJ$sp.java:23)\n",
      "\tat scala.util.DynamicVariable.withValue(DynamicVariable.scala:62)\n",
      "\tat org.apache.spark.scheduler.AsyncEventQueue.org$apache$spark$scheduler$AsyncEventQueue$$dispatch(AsyncEventQueue.scala:100)\n",
      "\tat org.apache.spark.scheduler.AsyncEventQueue$$anon$2.$anonfun$run$1(AsyncEventQueue.scala:96)\n",
      "\tat org.apache.spark.util.Utils$.tryOrStopSparkContext(Utils.scala:1381)\n",
      "\tat org.apache.spark.scheduler.AsyncEventQueue$$anon$2.run(AsyncEventQueue.scala:96)\n",
      "22/04/02 02:08:44 ERROR EventEmitter: Could not emit lineage: {\"eventType\":\"COMPLETE\",\"eventTime\":\"2022-04-02T02:08:44.731Z\",\"run\":{\"runId\":\"41ead379-b1fe-495c-a934-a8cc30fe1459\",\"facets\":{\"spark_version\":{\"_producer\":\"https://github.com/OpenLineage/OpenLineage/tree/0.6.0/integration/spark\",\"_schemaURL\":\"https://openlineage.io/spec/1-0-2/OpenLineage.json#/$defs/RunFacet\",\"spark-version\":\"3.1.2\",\"openlineage-spark-version\":\"0.6.0\"},\"spark.logicalPlan\":{\"_producer\":\"https://github.com/OpenLineage/OpenLineage/tree/0.6.0/integration/spark\",\"_schemaURL\":\"https://openlineage.io/spec/1-0-2/OpenLineage.json#/$defs/RunFacet\",\"plan\":[{\"class\":\"org.apache.spark.sql.catalyst.plans.logical.GlobalLimit\",\"num-children\":1,\"limitExpr\":[{\"class\":\"org.apache.spark.sql.catalyst.expressions.Literal\",\"num-children\":0,\"value\":\"1\",\"dataType\":\"integer\"}],\"child\":0},{\"class\":\"org.apache.spark.sql.catalyst.plans.logical.LocalLimit\",\"num-children\":1,\"limitExpr\":[{\"class\":\"org.apache.spark.sql.catalyst.expressions.Literal\",\"num-children\":0,\"value\":\"1\",\"dataType\":\"integer\"}],\"child\":0},{\"class\":\"org.apache.spark.sql.catalyst.plans.logical.Filter\",\"num-children\":1,\"condition\":[{\"class\":\"org.apache.spark.sql.catalyst.expressions.GreaterThan\",\"num-children\":2,\"left\":0,\"right\":1},{\"class\":\"org.apache.spark.sql.catalyst.expressions.Length\",\"num-children\":1,\"child\":0},{\"class\":\"org.apache.spark.sql.catalyst.expressions.StringTrim\",\"num-children\":1,\"srcStr\":0},{\"class\":\"org.apache.spark.sql.catalyst.expressions.AttributeReference\",\"num-children\":0,\"name\":\"value\",\"dataType\":\"string\",\"nullable\":true,\"metadata\":{},\"exprId\":{\"product-class\":\"org.apache.spark.sql.catalyst.expressions.ExprId\",\"id\":0,\"jvmId\":\"db8adb81-ffc4-4a95-9a9c-86d701eed7a7\"},\"qualifier\":[]},{\"class\":\"org.apache.spark.sql.catalyst.expressions.Literal\",\"num-children\":0,\"value\":\"0\",\"dataType\":\"integer\"}],\"child\":0},{\"class\":\"org.apache.spark.sql.execution.datasources.LogicalRelation\",\"num-children\":0,\"relation\":null,\"output\":[[{\"class\":\"org.apache.spark.sql.catalyst.expressions.AttributeReference\",\"num-children\":0,\"name\":\"value\",\"dataType\":\"string\",\"nullable\":true,\"metadata\":{},\"exprId\":{\"product-class\":\"org.apache.spark.sql.catalyst.expressions.ExprId\",\"id\":0,\"jvmId\":\"db8adb81-ffc4-4a95-9a9c-86d701eed7a7\"},\"qualifier\":[]}]],\"isStreaming\":false}]},\"spark_unknown\":{\"_producer\":\"https://github.com/OpenLineage/OpenLineage/tree/0.6.0/integration/spark\",\"_schemaURL\":\"https://openlineage.io/spec/1-0-2/OpenLineage.json#/$defs/RunFacet\",\"output\":{\"description\":{\"@class\":\"org.apache.spark.sql.catalyst.plans.logical.GlobalLimit\",\"id\":1,\"limitExpr\":{\"id\":2,\"value\":1,\"dataType\":\"integer\",\"origin\":{\"id\":3,\"line\":null,\"startPosition\":null},\"deterministic\":true,\"resolved\":true},\"origin\":3,\"schema\":{\"type\":\"struct\",\"fields\":[{\"name\":\"value\",\"type\":\"string\",\"nullable\":true,\"metadata\":{}}]},\"allAttributes\":{\"id\":4,\"attrs\":[{\"id\":5,\"name\":\"value\",\"dataType\":\"string\",\"nullable\":true,\"metadata\":{\"id\":6,\"map\":{}},\"exprId\":{\"id\":7,\"id\":0,\"jvmId\":\"db8adb81-ffc4-4a95-9a9c-86d701eed7a7\"},\"qualifier\":[],\"origin\":{\"id\":8,\"line\":null,\"startPosition\":null},\"deterministic\":true,\"resolved\":true}]},\"resolved\":true,\"validConstraints\":[{\"id\":9,\"left\":{\"id\":10,\"origin\":{\"id\":11,\"line\":null,\"startPosition\":null},\"deterministic\":true,\"resolved\":true},\"right\":{\"id\":12,\"value\":0,\"dataType\":\"integer\",\"origin\":11,\"deterministic\":true,\"resolved\":true},\"origin\":11,\"deterministic\":true,\"resolved\":true,\"ordering\":{\"id\":13}}],\"statsCache\":null,\"streaming\":false,\"traceEnabled\":false,\"canonicalizedPlan\":false},\"inputAttributes\":[{\"name\":\"value\",\"type\":\"string\",\"metadata\":{}}],\"outputAttributes\":[{\"name\":\"value\",\"type\":\"string\",\"metadata\":{}}]},\"inputs\":[]}}},\"job\":{\"namespace\":\"spark_integration\",\"name\":\"openlineage_spark_demo.collect_limit\",\"facets\":{}},\"inputs\":[{\"namespace\":\"file\",\"name\":\"/home/jovyan/notebooks\",\"facets\":{\"dataSource\":{\"_producer\":\"https://github.com/OpenLineage/OpenLineage/tree/0.6.0/integration/spark\",\"_schemaURL\":\"https://openlineage.io/spec/facets/1-0-0/DatasourceDatasetFacet.json#/$defs/DatasourceDatasetFacet\",\"name\":\"file\",\"uri\":\"file\"},\"schema\":{\"_producer\":\"https://github.com/OpenLineage/OpenLineage/tree/0.6.0/integration/spark\",\"_schemaURL\":\"https://openlineage.io/spec/facets/1-0-0/SchemaDatasetFacet.json#/$defs/SchemaDatasetFacet\",\"fields\":[{\"name\":\"value\",\"type\":\"string\"}]}},\"inputFacets\":{}}],\"outputs\":[],\"producer\":\"https://github.com/OpenLineage/OpenLineage/tree/0.6.0/integration/spark\",\"schemaURL\":\"https://openlineage.io/spec/1-0-2/OpenLineage.json#/$defs/RunEvent\"}\n",
      "OpenLineageHttpException(code=0, message=java.lang.RuntimeException: java.util.concurrent.ExecutionException: openlineage.hc.core5.http.ProtocolException: Target host is not specified, details=java.util.concurrent.CompletionException: java.lang.RuntimeException: java.util.concurrent.ExecutionException: openlineage.hc.core5.http.ProtocolException: Target host is not specified)\n",
      "\tat io.openlineage.spark.agent.EventEmitter.emit(EventEmitter.java:67)\n",
      "\tat io.openlineage.spark.agent.lifecycle.SparkSQLExecutionContext.end(SparkSQLExecutionContext.java:89)\n",
      "\tat io.openlineage.spark.agent.OpenLineageSparkListener.sparkSQLExecEnd(OpenLineageSparkListener.java:151)\n",
      "\tat io.openlineage.spark.agent.OpenLineageSparkListener.onOtherEvent(OpenLineageSparkListener.java:137)\n",
      "\tat org.apache.spark.scheduler.SparkListenerBus.doPostEvent(SparkListenerBus.scala:100)\n",
      "\tat org.apache.spark.scheduler.SparkListenerBus.doPostEvent$(SparkListenerBus.scala:28)\n",
      "\tat org.apache.spark.scheduler.AsyncEventQueue.doPostEvent(AsyncEventQueue.scala:37)\n",
      "\tat org.apache.spark.scheduler.AsyncEventQueue.doPostEvent(AsyncEventQueue.scala:37)\n",
      "\tat org.apache.spark.util.ListenerBus.postToAll(ListenerBus.scala:117)\n",
      "\tat org.apache.spark.util.ListenerBus.postToAll$(ListenerBus.scala:101)\n",
      "\tat org.apache.spark.scheduler.AsyncEventQueue.super$postToAll(AsyncEventQueue.scala:105)\n",
      "\tat org.apache.spark.scheduler.AsyncEventQueue.$anonfun$dispatch$1(AsyncEventQueue.scala:105)\n",
      "\tat scala.runtime.java8.JFunction0$mcJ$sp.apply(JFunction0$mcJ$sp.java:23)\n",
      "\tat scala.util.DynamicVariable.withValue(DynamicVariable.scala:62)\n",
      "\tat org.apache.spark.scheduler.AsyncEventQueue.org$apache$spark$scheduler$AsyncEventQueue$$dispatch(AsyncEventQueue.scala:100)\n",
      "\tat org.apache.spark.scheduler.AsyncEventQueue$$anon$2.$anonfun$run$1(AsyncEventQueue.scala:96)\n",
      "\tat org.apache.spark.util.Utils$.tryOrStopSparkContext(Utils.scala:1381)\n",
      "\tat org.apache.spark.scheduler.AsyncEventQueue$$anon$2.run(AsyncEventQueue.scala:96)\n"
     ]
    },
    {
     "name": "stdout",
     "output_type": "stream",
     "text": [
      "+--------------------+--------------------+-------+-------+---------+\n",
      "|          dependency|             package|version|   type|important|\n",
      "+--------------------+--------------------+-------+-------+---------+\n",
      "|          @babel/cli|benchmark/package...| ^7.8.4|tooling|     null|\n",
      "|          @babel/cli|benchmark/package...| ^7.8.4|tooling|     null|\n",
      "|          @babel/cli|asset-library/pac...| ^7.8.4|tooling|     null|\n",
      "|         @babel/core|benchmark/package...| ^7.8.4|tooling|      YES|\n",
      "|         @babel/core|benchmark/package...| ^7.8.4|tooling|     null|\n",
      "|         @babel/core|benchmark/package...| ^7.9.0|tooling|     null|\n",
      "|         @babel/core|asset-library/pac...| ^7.8.4|tooling|     null|\n",
      "|         @babel/core|asset-library/pac...| ^7.9.6|tooling|     null|\n",
      "|         @babel/core|adc/packages/asse...|^7.12.3|tooling|     null|\n",
      "|         @babel/core|  adc/packages/types|^7.12.0|tooling|     null|\n",
      "|         @babel/core|adc/packages/stud...|^7.12.0|tooling|     null|\n",
      "|         @babel/core|              papago|^7.12.9|tooling|     null|\n",
      "|    @babel/generator|benchmark/package...|^7.17.3|tooling|     null|\n",
      "|       @babel/parser|papago/packages/p...|^7.14.4|tooling|     null|\n",
      "|@babel/plugin-pro...|benchmark/package...|^7.13.8|tooling|     null|\n",
      "|@babel/plugin-tra...|benchmark/package...| ^7.9.6|tooling|     null|\n",
      "|@babel/plugin-tra...|benchmark/package...| ^7.9.6|tooling|     null|\n",
      "|@babel/plugin-tra...|asset-library/pac...| ^7.9.6|tooling|     null|\n",
      "|@babel/plugin-tra...|asset-library/pac...| ^7.9.6|tooling|     null|\n",
      "|@babel/plugin-tra...|                 adc|^7.13.8|tooling|     null|\n",
      "+--------------------+--------------------+-------+-------+---------+\n",
      "only showing top 20 rows\n",
      "\n"
     ]
    },
    {
     "name": "stderr",
     "output_type": "stream",
     "text": [
      "22/04/02 02:08:45 ERROR EventEmitter: Could not emit lineage: {\"eventType\":\"START\",\"eventTime\":\"2022-04-02T02:08:44.944Z\",\"run\":{\"runId\":\"642afaee-db37-480e-b529-1dce80b6eba9\",\"facets\":{\"spark_version\":{\"_producer\":\"https://github.com/OpenLineage/OpenLineage/tree/0.6.0/integration/spark\",\"_schemaURL\":\"https://openlineage.io/spec/1-0-2/OpenLineage.json#/$defs/RunFacet\",\"spark-version\":\"3.1.2\",\"openlineage-spark-version\":\"0.6.0\"},\"spark.logicalPlan\":{\"_producer\":\"https://github.com/OpenLineage/OpenLineage/tree/0.6.0/integration/spark\",\"_schemaURL\":\"https://openlineage.io/spec/1-0-2/OpenLineage.json#/$defs/RunFacet\",\"plan\":[{\"class\":\"org.apache.spark.sql.catalyst.plans.logical.GlobalLimit\",\"num-children\":1,\"limitExpr\":[{\"class\":\"org.apache.spark.sql.catalyst.expressions.Literal\",\"num-children\":0,\"value\":\"21\",\"dataType\":\"integer\"}],\"child\":0},{\"class\":\"org.apache.spark.sql.catalyst.plans.logical.LocalLimit\",\"num-children\":1,\"limitExpr\":[{\"class\":\"org.apache.spark.sql.catalyst.expressions.Literal\",\"num-children\":0,\"value\":\"21\",\"dataType\":\"integer\"}],\"child\":0},{\"class\":\"org.apache.spark.sql.execution.datasources.LogicalRelation\",\"num-children\":0,\"relation\":null,\"output\":[[{\"class\":\"org.apache.spark.sql.catalyst.expressions.AttributeReference\",\"num-children\":0,\"name\":\"dependency\",\"dataType\":\"string\",\"nullable\":true,\"metadata\":{},\"exprId\":{\"product-class\":\"org.apache.spark.sql.catalyst.expressions.ExprId\",\"id\":16,\"jvmId\":\"db8adb81-ffc4-4a95-9a9c-86d701eed7a7\"},\"qualifier\":[]}],[{\"class\":\"org.apache.spark.sql.catalyst.expressions.AttributeReference\",\"num-children\":0,\"name\":\"package\",\"dataType\":\"string\",\"nullable\":true,\"metadata\":{},\"exprId\":{\"product-class\":\"org.apache.spark.sql.catalyst.expressions.ExprId\",\"id\":17,\"jvmId\":\"db8adb81-ffc4-4a95-9a9c-86d701eed7a7\"},\"qualifier\":[]}],[{\"class\":\"org.apache.spark.sql.catalyst.expressions.AttributeReference\",\"num-children\":0,\"name\":\"version\",\"dataType\":\"string\",\"nullable\":true,\"metadata\":{},\"exprId\":{\"product-class\":\"org.apache.spark.sql.catalyst.expressions.ExprId\",\"id\":18,\"jvmId\":\"db8adb81-ffc4-4a95-9a9c-86d701eed7a7\"},\"qualifier\":[]}],[{\"class\":\"org.apache.spark.sql.catalyst.expressions.AttributeReference\",\"num-children\":0,\"name\":\"type\",\"dataType\":\"string\",\"nullable\":true,\"metadata\":{},\"exprId\":{\"product-class\":\"org.apache.spark.sql.catalyst.expressions.ExprId\",\"id\":19,\"jvmId\":\"db8adb81-ffc4-4a95-9a9c-86d701eed7a7\"},\"qualifier\":[]}],[{\"class\":\"org.apache.spark.sql.catalyst.expressions.AttributeReference\",\"num-children\":0,\"name\":\"important\",\"dataType\":\"string\",\"nullable\":true,\"metadata\":{},\"exprId\":{\"product-class\":\"org.apache.spark.sql.catalyst.expressions.ExprId\",\"id\":20,\"jvmId\":\"db8adb81-ffc4-4a95-9a9c-86d701eed7a7\"},\"qualifier\":[]}]],\"isStreaming\":false}]},\"spark_unknown\":{\"_producer\":\"https://github.com/OpenLineage/OpenLineage/tree/0.6.0/integration/spark\",\"_schemaURL\":\"https://openlineage.io/spec/1-0-2/OpenLineage.json#/$defs/RunFacet\",\"output\":{\"description\":{\"@class\":\"org.apache.spark.sql.catalyst.plans.logical.GlobalLimit\",\"id\":1,\"limitExpr\":{\"id\":2,\"value\":21,\"dataType\":\"integer\",\"origin\":{\"id\":3,\"line\":null,\"startPosition\":null},\"deterministic\":true,\"resolved\":true},\"origin\":3,\"schema\":{\"type\":\"struct\",\"fields\":[{\"name\":\"dependency\",\"type\":\"string\",\"nullable\":true,\"metadata\":{}},{\"name\":\"package\",\"type\":\"string\",\"nullable\":true,\"metadata\":{}},{\"name\":\"version\",\"type\":\"string\",\"nullable\":true,\"metadata\":{}},{\"name\":\"type\",\"type\":\"string\",\"nullable\":true,\"metadata\":{}},{\"name\":\"important\",\"type\":\"string\",\"nullable\":true,\"metadata\":{}}]},\"allAttributes\":{\"id\":4,\"attrs\":[{\"id\":5,\"name\":\"dependency\",\"dataType\":\"string\",\"nullable\":true,\"metadata\":{\"id\":6,\"map\":{}},\"exprId\":{\"id\":7,\"id\":16,\"jvmId\":\"db8adb81-ffc4-4a95-9a9c-86d701eed7a7\"},\"qualifier\":[],\"origin\":{\"id\":8,\"line\":null,\"startPosition\":null},\"deterministic\":true,\"resolved\":true},{\"id\":9,\"name\":\"package\",\"dataType\":\"string\",\"nullable\":true,\"metadata\":6,\"exprId\":{\"id\":10,\"id\":17,\"jvmId\":\"db8adb81-ffc4-4a95-9a9c-86d701eed7a7\"},\"qualifier\":[],\"origin\":8,\"deterministic\":true,\"resolved\":true},{\"id\":11,\"name\":\"version\",\"dataType\":\"string\",\"nullable\":true,\"metadata\":6,\"exprId\":{\"id\":12,\"id\":18,\"jvmId\":\"db8adb81-ffc4-4a95-9a9c-86d701eed7a7\"},\"qualifier\":[],\"origin\":8,\"deterministic\":true,\"resolved\":true},{\"id\":13,\"name\":\"type\",\"dataType\":\"string\",\"nullable\":true,\"metadata\":6,\"exprId\":{\"id\":14,\"id\":19,\"jvmId\":\"db8adb81-ffc4-4a95-9a9c-86d701eed7a7\"},\"qualifier\":[],\"origin\":8,\"deterministic\":true,\"resolved\":true},{\"id\":15,\"name\":\"important\",\"dataType\":\"string\",\"nullable\":true,\"metadata\":6,\"exprId\":{\"id\":16,\"id\":20,\"jvmId\":\"db8adb81-ffc4-4a95-9a9c-86d701eed7a7\"},\"qualifier\":[],\"origin\":8,\"deterministic\":true,\"resolved\":true}]},\"resolved\":true,\"validConstraints\":[],\"statsCache\":null,\"streaming\":false,\"traceEnabled\":false,\"canonicalizedPlan\":false},\"inputAttributes\":[{\"name\":\"version\",\"type\":\"string\",\"metadata\":{}},{\"name\":\"type\",\"type\":\"string\",\"metadata\":{}},{\"name\":\"dependency\",\"type\":\"string\",\"metadata\":{}},{\"name\":\"important\",\"type\":\"string\",\"metadata\":{}},{\"name\":\"package\",\"type\":\"string\",\"metadata\":{}}],\"outputAttributes\":[{\"name\":\"version\",\"type\":\"string\",\"metadata\":{}},{\"name\":\"type\",\"type\":\"string\",\"metadata\":{}},{\"name\":\"dependency\",\"type\":\"string\",\"metadata\":{}},{\"name\":\"important\",\"type\":\"string\",\"metadata\":{}},{\"name\":\"package\",\"type\":\"string\",\"metadata\":{}}]},\"inputs\":[]}}},\"job\":{\"namespace\":\"spark_integration\",\"name\":\"openlineage_spark_demo.collect_limit\",\"facets\":{}},\"inputs\":[{\"namespace\":\"file\",\"name\":\"/home/jovyan/notebooks\",\"facets\":{\"dataSource\":{\"_producer\":\"https://github.com/OpenLineage/OpenLineage/tree/0.6.0/integration/spark\",\"_schemaURL\":\"https://openlineage.io/spec/facets/1-0-0/DatasourceDatasetFacet.json#/$defs/DatasourceDatasetFacet\",\"name\":\"file\",\"uri\":\"file\"},\"schema\":{\"_producer\":\"https://github.com/OpenLineage/OpenLineage/tree/0.6.0/integration/spark\",\"_schemaURL\":\"https://openlineage.io/spec/facets/1-0-0/SchemaDatasetFacet.json#/$defs/SchemaDatasetFacet\",\"fields\":[{\"name\":\"dependency\",\"type\":\"string\"},{\"name\":\"package\",\"type\":\"string\"},{\"name\":\"version\",\"type\":\"string\"},{\"name\":\"type\",\"type\":\"string\"},{\"name\":\"important\",\"type\":\"string\"}]}},\"inputFacets\":{}}],\"outputs\":[],\"producer\":\"https://github.com/OpenLineage/OpenLineage/tree/0.6.0/integration/spark\",\"schemaURL\":\"https://openlineage.io/spec/1-0-2/OpenLineage.json#/$defs/RunEvent\"}\n",
      "OpenLineageHttpException(code=0, message=java.lang.RuntimeException: java.util.concurrent.ExecutionException: openlineage.hc.core5.http.ProtocolException: Target host is not specified, details=java.util.concurrent.CompletionException: java.lang.RuntimeException: java.util.concurrent.ExecutionException: openlineage.hc.core5.http.ProtocolException: Target host is not specified)\n",
      "\tat io.openlineage.spark.agent.EventEmitter.emit(EventEmitter.java:67)\n",
      "\tat io.openlineage.spark.agent.lifecycle.SparkSQLExecutionContext.start(SparkSQLExecutionContext.java:69)\n",
      "\tat io.openlineage.spark.agent.OpenLineageSparkListener.sparkSQLExecStart(OpenLineageSparkListener.java:144)\n",
      "\tat io.openlineage.spark.agent.OpenLineageSparkListener.onOtherEvent(OpenLineageSparkListener.java:135)\n",
      "\tat org.apache.spark.scheduler.SparkListenerBus.doPostEvent(SparkListenerBus.scala:100)\n",
      "\tat org.apache.spark.scheduler.SparkListenerBus.doPostEvent$(SparkListenerBus.scala:28)\n",
      "\tat org.apache.spark.scheduler.AsyncEventQueue.doPostEvent(AsyncEventQueue.scala:37)\n",
      "\tat org.apache.spark.scheduler.AsyncEventQueue.doPostEvent(AsyncEventQueue.scala:37)\n",
      "\tat org.apache.spark.util.ListenerBus.postToAll(ListenerBus.scala:117)\n",
      "\tat org.apache.spark.util.ListenerBus.postToAll$(ListenerBus.scala:101)\n",
      "\tat org.apache.spark.scheduler.AsyncEventQueue.super$postToAll(AsyncEventQueue.scala:105)\n",
      "\tat org.apache.spark.scheduler.AsyncEventQueue.$anonfun$dispatch$1(AsyncEventQueue.scala:105)\n",
      "\tat scala.runtime.java8.JFunction0$mcJ$sp.apply(JFunction0$mcJ$sp.java:23)\n",
      "\tat scala.util.DynamicVariable.withValue(DynamicVariable.scala:62)\n",
      "\tat org.apache.spark.scheduler.AsyncEventQueue.org$apache$spark$scheduler$AsyncEventQueue$$dispatch(AsyncEventQueue.scala:100)\n",
      "\tat org.apache.spark.scheduler.AsyncEventQueue$$anon$2.$anonfun$run$1(AsyncEventQueue.scala:96)\n",
      "\tat org.apache.spark.util.Utils$.tryOrStopSparkContext(Utils.scala:1381)\n",
      "\tat org.apache.spark.scheduler.AsyncEventQueue$$anon$2.run(AsyncEventQueue.scala:96)\n",
      "22/04/02 02:08:45 ERROR EventEmitter: Could not emit lineage: {\"eventType\":\"START\",\"eventTime\":\"2022-04-02T02:08:44.998Z\",\"run\":{\"runId\":\"642afaee-db37-480e-b529-1dce80b6eba9\",\"facets\":{\"spark_version\":{\"_producer\":\"https://github.com/OpenLineage/OpenLineage/tree/0.6.0/integration/spark\",\"_schemaURL\":\"https://openlineage.io/spec/1-0-2/OpenLineage.json#/$defs/RunFacet\",\"spark-version\":\"3.1.2\",\"openlineage-spark-version\":\"0.6.0\"},\"spark_unknown\":{\"_producer\":\"https://github.com/OpenLineage/OpenLineage/tree/0.6.0/integration/spark\",\"_schemaURL\":\"https://openlineage.io/spec/1-0-2/OpenLineage.json#/$defs/RunFacet\",\"output\":{\"description\":{\"@class\":\"org.apache.spark.sql.catalyst.plans.logical.GlobalLimit\",\"id\":1,\"limitExpr\":{\"id\":2,\"value\":21,\"dataType\":\"integer\",\"origin\":{\"id\":3,\"line\":null,\"startPosition\":null},\"deterministic\":true,\"resolved\":true},\"origin\":3,\"schema\":{\"type\":\"struct\",\"fields\":[{\"name\":\"dependency\",\"type\":\"string\",\"nullable\":true,\"metadata\":{}},{\"name\":\"package\",\"type\":\"string\",\"nullable\":true,\"metadata\":{}},{\"name\":\"version\",\"type\":\"string\",\"nullable\":true,\"metadata\":{}},{\"name\":\"type\",\"type\":\"string\",\"nullable\":true,\"metadata\":{}},{\"name\":\"important\",\"type\":\"string\",\"nullable\":true,\"metadata\":{}}]},\"allAttributes\":{\"id\":4,\"attrs\":[{\"id\":5,\"name\":\"dependency\",\"dataType\":\"string\",\"nullable\":true,\"metadata\":{\"id\":6,\"map\":{}},\"exprId\":{\"id\":7,\"id\":16,\"jvmId\":\"db8adb81-ffc4-4a95-9a9c-86d701eed7a7\"},\"qualifier\":[],\"origin\":{\"id\":8,\"line\":null,\"startPosition\":null},\"deterministic\":true,\"resolved\":true},{\"id\":9,\"name\":\"package\",\"dataType\":\"string\",\"nullable\":true,\"metadata\":6,\"exprId\":{\"id\":10,\"id\":17,\"jvmId\":\"db8adb81-ffc4-4a95-9a9c-86d701eed7a7\"},\"qualifier\":[],\"origin\":8,\"deterministic\":true,\"resolved\":true},{\"id\":11,\"name\":\"version\",\"dataType\":\"string\",\"nullable\":true,\"metadata\":6,\"exprId\":{\"id\":12,\"id\":18,\"jvmId\":\"db8adb81-ffc4-4a95-9a9c-86d701eed7a7\"},\"qualifier\":[],\"origin\":8,\"deterministic\":true,\"resolved\":true},{\"id\":13,\"name\":\"type\",\"dataType\":\"string\",\"nullable\":true,\"metadata\":6,\"exprId\":{\"id\":14,\"id\":19,\"jvmId\":\"db8adb81-ffc4-4a95-9a9c-86d701eed7a7\"},\"qualifier\":[],\"origin\":8,\"deterministic\":true,\"resolved\":true},{\"id\":15,\"name\":\"important\",\"dataType\":\"string\",\"nullable\":true,\"metadata\":6,\"exprId\":{\"id\":16,\"id\":20,\"jvmId\":\"db8adb81-ffc4-4a95-9a9c-86d701eed7a7\"},\"qualifier\":[],\"origin\":8,\"deterministic\":true,\"resolved\":true}]},\"resolved\":true,\"validConstraints\":[],\"statsCache\":null,\"streaming\":false,\"traceEnabled\":false,\"canonicalizedPlan\":false},\"inputAttributes\":[{\"name\":\"version\",\"type\":\"string\",\"metadata\":{}},{\"name\":\"type\",\"type\":\"string\",\"metadata\":{}},{\"name\":\"dependency\",\"type\":\"string\",\"metadata\":{}},{\"name\":\"important\",\"type\":\"string\",\"metadata\":{}},{\"name\":\"package\",\"type\":\"string\",\"metadata\":{}}],\"outputAttributes\":[{\"name\":\"version\",\"type\":\"string\",\"metadata\":{}},{\"name\":\"type\",\"type\":\"string\",\"metadata\":{}},{\"name\":\"dependency\",\"type\":\"string\",\"metadata\":{}},{\"name\":\"important\",\"type\":\"string\",\"metadata\":{}},{\"name\":\"package\",\"type\":\"string\",\"metadata\":{}}]},\"inputs\":[]}}},\"job\":{\"namespace\":\"spark_integration\",\"name\":\"openlineage_spark_demo.collect_limit\",\"facets\":{}},\"inputs\":[{\"namespace\":\"file\",\"name\":\"/home/jovyan/notebooks\",\"facets\":{\"dataSource\":{\"_producer\":\"https://github.com/OpenLineage/OpenLineage/tree/0.6.0/integration/spark\",\"_schemaURL\":\"https://openlineage.io/spec/facets/1-0-0/DatasourceDatasetFacet.json#/$defs/DatasourceDatasetFacet\",\"name\":\"file\",\"uri\":\"file\"},\"schema\":{\"_producer\":\"https://github.com/OpenLineage/OpenLineage/tree/0.6.0/integration/spark\",\"_schemaURL\":\"https://openlineage.io/spec/facets/1-0-0/SchemaDatasetFacet.json#/$defs/SchemaDatasetFacet\",\"fields\":[{\"name\":\"dependency\",\"type\":\"string\"},{\"name\":\"package\",\"type\":\"string\"},{\"name\":\"version\",\"type\":\"string\"},{\"name\":\"type\",\"type\":\"string\"},{\"name\":\"important\",\"type\":\"string\"}]}},\"inputFacets\":{}}],\"outputs\":[],\"producer\":\"https://github.com/OpenLineage/OpenLineage/tree/0.6.0/integration/spark\",\"schemaURL\":\"https://openlineage.io/spec/1-0-2/OpenLineage.json#/$defs/RunEvent\"}\n",
      "OpenLineageHttpException(code=0, message=java.lang.RuntimeException: java.util.concurrent.ExecutionException: openlineage.hc.core5.http.ProtocolException: Target host is not specified, details=java.util.concurrent.CompletionException: java.lang.RuntimeException: java.util.concurrent.ExecutionException: openlineage.hc.core5.http.ProtocolException: Target host is not specified)\n",
      "\tat io.openlineage.spark.agent.EventEmitter.emit(EventEmitter.java:67)\n",
      "\tat io.openlineage.spark.agent.lifecycle.SparkSQLExecutionContext.start(SparkSQLExecutionContext.java:150)\n",
      "\tat io.openlineage.spark.agent.OpenLineageSparkListener.onJobStart(OpenLineageSparkListener.java:199)\n",
      "\tat org.apache.spark.scheduler.SparkListenerBus.doPostEvent(SparkListenerBus.scala:37)\n",
      "\tat org.apache.spark.scheduler.SparkListenerBus.doPostEvent$(SparkListenerBus.scala:28)\n",
      "\tat org.apache.spark.scheduler.AsyncEventQueue.doPostEvent(AsyncEventQueue.scala:37)\n",
      "\tat org.apache.spark.scheduler.AsyncEventQueue.doPostEvent(AsyncEventQueue.scala:37)\n",
      "\tat org.apache.spark.util.ListenerBus.postToAll(ListenerBus.scala:117)\n",
      "\tat org.apache.spark.util.ListenerBus.postToAll$(ListenerBus.scala:101)\n",
      "\tat org.apache.spark.scheduler.AsyncEventQueue.super$postToAll(AsyncEventQueue.scala:105)\n",
      "\tat org.apache.spark.scheduler.AsyncEventQueue.$anonfun$dispatch$1(AsyncEventQueue.scala:105)\n",
      "\tat scala.runtime.java8.JFunction0$mcJ$sp.apply(JFunction0$mcJ$sp.java:23)\n",
      "\tat scala.util.DynamicVariable.withValue(DynamicVariable.scala:62)\n",
      "\tat org.apache.spark.scheduler.AsyncEventQueue.org$apache$spark$scheduler$AsyncEventQueue$$dispatch(AsyncEventQueue.scala:100)\n",
      "\tat org.apache.spark.scheduler.AsyncEventQueue$$anon$2.$anonfun$run$1(AsyncEventQueue.scala:96)\n",
      "\tat org.apache.spark.util.Utils$.tryOrStopSparkContext(Utils.scala:1381)\n",
      "\tat org.apache.spark.scheduler.AsyncEventQueue$$anon$2.run(AsyncEventQueue.scala:96)\n",
      "22/04/02 02:08:45 ERROR EventEmitter: Could not emit lineage: {\"eventType\":\"COMPLETE\",\"eventTime\":\"2022-04-02T02:08:45.146Z\",\"run\":{\"runId\":\"642afaee-db37-480e-b529-1dce80b6eba9\",\"facets\":{\"spark_version\":{\"_producer\":\"https://github.com/OpenLineage/OpenLineage/tree/0.6.0/integration/spark\",\"_schemaURL\":\"https://openlineage.io/spec/1-0-2/OpenLineage.json#/$defs/RunFacet\",\"spark-version\":\"3.1.2\",\"openlineage-spark-version\":\"0.6.0\"},\"spark.logicalPlan\":{\"_producer\":\"https://github.com/OpenLineage/OpenLineage/tree/0.6.0/integration/spark\",\"_schemaURL\":\"https://openlineage.io/spec/1-0-2/OpenLineage.json#/$defs/RunFacet\",\"plan\":[{\"class\":\"org.apache.spark.sql.catalyst.plans.logical.GlobalLimit\",\"num-children\":1,\"limitExpr\":[{\"class\":\"org.apache.spark.sql.catalyst.expressions.Literal\",\"num-children\":0,\"value\":\"21\",\"dataType\":\"integer\"}],\"child\":0},{\"class\":\"org.apache.spark.sql.catalyst.plans.logical.LocalLimit\",\"num-children\":1,\"limitExpr\":[{\"class\":\"org.apache.spark.sql.catalyst.expressions.Literal\",\"num-children\":0,\"value\":\"21\",\"dataType\":\"integer\"}],\"child\":0},{\"class\":\"org.apache.spark.sql.execution.datasources.LogicalRelation\",\"num-children\":0,\"relation\":null,\"output\":[[{\"class\":\"org.apache.spark.sql.catalyst.expressions.AttributeReference\",\"num-children\":0,\"name\":\"dependency\",\"dataType\":\"string\",\"nullable\":true,\"metadata\":{},\"exprId\":{\"product-class\":\"org.apache.spark.sql.catalyst.expressions.ExprId\",\"id\":16,\"jvmId\":\"db8adb81-ffc4-4a95-9a9c-86d701eed7a7\"},\"qualifier\":[]}],[{\"class\":\"org.apache.spark.sql.catalyst.expressions.AttributeReference\",\"num-children\":0,\"name\":\"package\",\"dataType\":\"string\",\"nullable\":true,\"metadata\":{},\"exprId\":{\"product-class\":\"org.apache.spark.sql.catalyst.expressions.ExprId\",\"id\":17,\"jvmId\":\"db8adb81-ffc4-4a95-9a9c-86d701eed7a7\"},\"qualifier\":[]}],[{\"class\":\"org.apache.spark.sql.catalyst.expressions.AttributeReference\",\"num-children\":0,\"name\":\"version\",\"dataType\":\"string\",\"nullable\":true,\"metadata\":{},\"exprId\":{\"product-class\":\"org.apache.spark.sql.catalyst.expressions.ExprId\",\"id\":18,\"jvmId\":\"db8adb81-ffc4-4a95-9a9c-86d701eed7a7\"},\"qualifier\":[]}],[{\"class\":\"org.apache.spark.sql.catalyst.expressions.AttributeReference\",\"num-children\":0,\"name\":\"type\",\"dataType\":\"string\",\"nullable\":true,\"metadata\":{},\"exprId\":{\"product-class\":\"org.apache.spark.sql.catalyst.expressions.ExprId\",\"id\":19,\"jvmId\":\"db8adb81-ffc4-4a95-9a9c-86d701eed7a7\"},\"qualifier\":[]}],[{\"class\":\"org.apache.spark.sql.catalyst.expressions.AttributeReference\",\"num-children\":0,\"name\":\"important\",\"dataType\":\"string\",\"nullable\":true,\"metadata\":{},\"exprId\":{\"product-class\":\"org.apache.spark.sql.catalyst.expressions.ExprId\",\"id\":20,\"jvmId\":\"db8adb81-ffc4-4a95-9a9c-86d701eed7a7\"},\"qualifier\":[]}]],\"isStreaming\":false}]},\"spark_unknown\":{\"_producer\":\"https://github.com/OpenLineage/OpenLineage/tree/0.6.0/integration/spark\",\"_schemaURL\":\"https://openlineage.io/spec/1-0-2/OpenLineage.json#/$defs/RunFacet\",\"output\":{\"description\":{\"@class\":\"org.apache.spark.sql.catalyst.plans.logical.GlobalLimit\",\"id\":1,\"limitExpr\":{\"id\":2,\"value\":21,\"dataType\":\"integer\",\"origin\":{\"id\":3,\"line\":null,\"startPosition\":null},\"deterministic\":true,\"resolved\":true},\"origin\":3,\"schema\":{\"type\":\"struct\",\"fields\":[{\"name\":\"dependency\",\"type\":\"string\",\"nullable\":true,\"metadata\":{}},{\"name\":\"package\",\"type\":\"string\",\"nullable\":true,\"metadata\":{}},{\"name\":\"version\",\"type\":\"string\",\"nullable\":true,\"metadata\":{}},{\"name\":\"type\",\"type\":\"string\",\"nullable\":true,\"metadata\":{}},{\"name\":\"important\",\"type\":\"string\",\"nullable\":true,\"metadata\":{}}]},\"allAttributes\":{\"id\":4,\"attrs\":[{\"id\":5,\"name\":\"dependency\",\"dataType\":\"string\",\"nullable\":true,\"metadata\":{\"id\":6,\"map\":{}},\"exprId\":{\"id\":7,\"id\":16,\"jvmId\":\"db8adb81-ffc4-4a95-9a9c-86d701eed7a7\"},\"qualifier\":[],\"origin\":{\"id\":8,\"line\":null,\"startPosition\":null},\"deterministic\":true,\"resolved\":true},{\"id\":9,\"name\":\"package\",\"dataType\":\"string\",\"nullable\":true,\"metadata\":6,\"exprId\":{\"id\":10,\"id\":17,\"jvmId\":\"db8adb81-ffc4-4a95-9a9c-86d701eed7a7\"},\"qualifier\":[],\"origin\":8,\"deterministic\":true,\"resolved\":true},{\"id\":11,\"name\":\"version\",\"dataType\":\"string\",\"nullable\":true,\"metadata\":6,\"exprId\":{\"id\":12,\"id\":18,\"jvmId\":\"db8adb81-ffc4-4a95-9a9c-86d701eed7a7\"},\"qualifier\":[],\"origin\":8,\"deterministic\":true,\"resolved\":true},{\"id\":13,\"name\":\"type\",\"dataType\":\"string\",\"nullable\":true,\"metadata\":6,\"exprId\":{\"id\":14,\"id\":19,\"jvmId\":\"db8adb81-ffc4-4a95-9a9c-86d701eed7a7\"},\"qualifier\":[],\"origin\":8,\"deterministic\":true,\"resolved\":true},{\"id\":15,\"name\":\"important\",\"dataType\":\"string\",\"nullable\":true,\"metadata\":6,\"exprId\":{\"id\":16,\"id\":20,\"jvmId\":\"db8adb81-ffc4-4a95-9a9c-86d701eed7a7\"},\"qualifier\":[],\"origin\":8,\"deterministic\":true,\"resolved\":true}]},\"resolved\":true,\"validConstraints\":[],\"statsCache\":null,\"streaming\":false,\"traceEnabled\":false,\"canonicalizedPlan\":false},\"inputAttributes\":[{\"name\":\"version\",\"type\":\"string\",\"metadata\":{}},{\"name\":\"type\",\"type\":\"string\",\"metadata\":{}},{\"name\":\"dependency\",\"type\":\"string\",\"metadata\":{}},{\"name\":\"important\",\"type\":\"string\",\"metadata\":{}},{\"name\":\"package\",\"type\":\"string\",\"metadata\":{}}],\"outputAttributes\":[{\"name\":\"version\",\"type\":\"string\",\"metadata\":{}},{\"name\":\"type\",\"type\":\"string\",\"metadata\":{}},{\"name\":\"dependency\",\"type\":\"string\",\"metadata\":{}},{\"name\":\"important\",\"type\":\"string\",\"metadata\":{}},{\"name\":\"package\",\"type\":\"string\",\"metadata\":{}}]},\"inputs\":[]}}},\"job\":{\"namespace\":\"spark_integration\",\"name\":\"openlineage_spark_demo.collect_limit\",\"facets\":{}},\"inputs\":[{\"namespace\":\"file\",\"name\":\"/home/jovyan/notebooks\",\"facets\":{\"dataSource\":{\"_producer\":\"https://github.com/OpenLineage/OpenLineage/tree/0.6.0/integration/spark\",\"_schemaURL\":\"https://openlineage.io/spec/facets/1-0-0/DatasourceDatasetFacet.json#/$defs/DatasourceDatasetFacet\",\"name\":\"file\",\"uri\":\"file\"},\"schema\":{\"_producer\":\"https://github.com/OpenLineage/OpenLineage/tree/0.6.0/integration/spark\",\"_schemaURL\":\"https://openlineage.io/spec/facets/1-0-0/SchemaDatasetFacet.json#/$defs/SchemaDatasetFacet\",\"fields\":[{\"name\":\"dependency\",\"type\":\"string\"},{\"name\":\"package\",\"type\":\"string\"},{\"name\":\"version\",\"type\":\"string\"},{\"name\":\"type\",\"type\":\"string\"},{\"name\":\"important\",\"type\":\"string\"}]}},\"inputFacets\":{}}],\"outputs\":[],\"producer\":\"https://github.com/OpenLineage/OpenLineage/tree/0.6.0/integration/spark\",\"schemaURL\":\"https://openlineage.io/spec/1-0-2/OpenLineage.json#/$defs/RunEvent\"}\n",
      "OpenLineageHttpException(code=0, message=java.lang.RuntimeException: java.util.concurrent.ExecutionException: openlineage.hc.core5.http.ProtocolException: Target host is not specified, details=java.util.concurrent.CompletionException: java.lang.RuntimeException: java.util.concurrent.ExecutionException: openlineage.hc.core5.http.ProtocolException: Target host is not specified)\n",
      "\tat io.openlineage.spark.agent.EventEmitter.emit(EventEmitter.java:67)\n",
      "\tat io.openlineage.spark.agent.lifecycle.SparkSQLExecutionContext.end(SparkSQLExecutionContext.java:174)\n",
      "\tat io.openlineage.spark.agent.OpenLineageSparkListener.onJobEnd(OpenLineageSparkListener.java:210)\n",
      "\tat org.apache.spark.scheduler.SparkListenerBus.doPostEvent(SparkListenerBus.scala:39)\n",
      "\tat org.apache.spark.scheduler.SparkListenerBus.doPostEvent$(SparkListenerBus.scala:28)\n",
      "\tat org.apache.spark.scheduler.AsyncEventQueue.doPostEvent(AsyncEventQueue.scala:37)\n",
      "\tat org.apache.spark.scheduler.AsyncEventQueue.doPostEvent(AsyncEventQueue.scala:37)\n",
      "\tat org.apache.spark.util.ListenerBus.postToAll(ListenerBus.scala:117)\n",
      "\tat org.apache.spark.util.ListenerBus.postToAll$(ListenerBus.scala:101)\n",
      "\tat org.apache.spark.scheduler.AsyncEventQueue.super$postToAll(AsyncEventQueue.scala:105)\n",
      "\tat org.apache.spark.scheduler.AsyncEventQueue.$anonfun$dispatch$1(AsyncEventQueue.scala:105)\n",
      "\tat scala.runtime.java8.JFunction0$mcJ$sp.apply(JFunction0$mcJ$sp.java:23)\n",
      "\tat scala.util.DynamicVariable.withValue(DynamicVariable.scala:62)\n",
      "\tat org.apache.spark.scheduler.AsyncEventQueue.org$apache$spark$scheduler$AsyncEventQueue$$dispatch(AsyncEventQueue.scala:100)\n",
      "\tat org.apache.spark.scheduler.AsyncEventQueue$$anon$2.$anonfun$run$1(AsyncEventQueue.scala:96)\n",
      "\tat org.apache.spark.util.Utils$.tryOrStopSparkContext(Utils.scala:1381)\n",
      "\tat org.apache.spark.scheduler.AsyncEventQueue$$anon$2.run(AsyncEventQueue.scala:96)\n"
     ]
    },
    {
     "name": "stderr",
     "output_type": "stream",
     "text": [
      "22/04/02 02:08:45 ERROR EventEmitter: Could not emit lineage: {\"eventType\":\"COMPLETE\",\"eventTime\":\"2022-04-02T02:08:45.208Z\",\"run\":{\"runId\":\"642afaee-db37-480e-b529-1dce80b6eba9\",\"facets\":{\"spark_version\":{\"_producer\":\"https://github.com/OpenLineage/OpenLineage/tree/0.6.0/integration/spark\",\"_schemaURL\":\"https://openlineage.io/spec/1-0-2/OpenLineage.json#/$defs/RunFacet\",\"spark-version\":\"3.1.2\",\"openlineage-spark-version\":\"0.6.0\"},\"spark.logicalPlan\":{\"_producer\":\"https://github.com/OpenLineage/OpenLineage/tree/0.6.0/integration/spark\",\"_schemaURL\":\"https://openlineage.io/spec/1-0-2/OpenLineage.json#/$defs/RunFacet\",\"plan\":[{\"class\":\"org.apache.spark.sql.catalyst.plans.logical.GlobalLimit\",\"num-children\":1,\"limitExpr\":[{\"class\":\"org.apache.spark.sql.catalyst.expressions.Literal\",\"num-children\":0,\"value\":\"21\",\"dataType\":\"integer\"}],\"child\":0},{\"class\":\"org.apache.spark.sql.catalyst.plans.logical.LocalLimit\",\"num-children\":1,\"limitExpr\":[{\"class\":\"org.apache.spark.sql.catalyst.expressions.Literal\",\"num-children\":0,\"value\":\"21\",\"dataType\":\"integer\"}],\"child\":0},{\"class\":\"org.apache.spark.sql.execution.datasources.LogicalRelation\",\"num-children\":0,\"relation\":null,\"output\":[[{\"class\":\"org.apache.spark.sql.catalyst.expressions.AttributeReference\",\"num-children\":0,\"name\":\"dependency\",\"dataType\":\"string\",\"nullable\":true,\"metadata\":{},\"exprId\":{\"product-class\":\"org.apache.spark.sql.catalyst.expressions.ExprId\",\"id\":16,\"jvmId\":\"db8adb81-ffc4-4a95-9a9c-86d701eed7a7\"},\"qualifier\":[]}],[{\"class\":\"org.apache.spark.sql.catalyst.expressions.AttributeReference\",\"num-children\":0,\"name\":\"package\",\"dataType\":\"string\",\"nullable\":true,\"metadata\":{},\"exprId\":{\"product-class\":\"org.apache.spark.sql.catalyst.expressions.ExprId\",\"id\":17,\"jvmId\":\"db8adb81-ffc4-4a95-9a9c-86d701eed7a7\"},\"qualifier\":[]}],[{\"class\":\"org.apache.spark.sql.catalyst.expressions.AttributeReference\",\"num-children\":0,\"name\":\"version\",\"dataType\":\"string\",\"nullable\":true,\"metadata\":{},\"exprId\":{\"product-class\":\"org.apache.spark.sql.catalyst.expressions.ExprId\",\"id\":18,\"jvmId\":\"db8adb81-ffc4-4a95-9a9c-86d701eed7a7\"},\"qualifier\":[]}],[{\"class\":\"org.apache.spark.sql.catalyst.expressions.AttributeReference\",\"num-children\":0,\"name\":\"type\",\"dataType\":\"string\",\"nullable\":true,\"metadata\":{},\"exprId\":{\"product-class\":\"org.apache.spark.sql.catalyst.expressions.ExprId\",\"id\":19,\"jvmId\":\"db8adb81-ffc4-4a95-9a9c-86d701eed7a7\"},\"qualifier\":[]}],[{\"class\":\"org.apache.spark.sql.catalyst.expressions.AttributeReference\",\"num-children\":0,\"name\":\"important\",\"dataType\":\"string\",\"nullable\":true,\"metadata\":{},\"exprId\":{\"product-class\":\"org.apache.spark.sql.catalyst.expressions.ExprId\",\"id\":20,\"jvmId\":\"db8adb81-ffc4-4a95-9a9c-86d701eed7a7\"},\"qualifier\":[]}]],\"isStreaming\":false}]},\"spark_unknown\":{\"_producer\":\"https://github.com/OpenLineage/OpenLineage/tree/0.6.0/integration/spark\",\"_schemaURL\":\"https://openlineage.io/spec/1-0-2/OpenLineage.json#/$defs/RunFacet\",\"output\":{\"description\":{\"@class\":\"org.apache.spark.sql.catalyst.plans.logical.GlobalLimit\",\"id\":1,\"limitExpr\":{\"id\":2,\"value\":21,\"dataType\":\"integer\",\"origin\":{\"id\":3,\"line\":null,\"startPosition\":null},\"deterministic\":true,\"resolved\":true},\"origin\":3,\"schema\":{\"type\":\"struct\",\"fields\":[{\"name\":\"dependency\",\"type\":\"string\",\"nullable\":true,\"metadata\":{}},{\"name\":\"package\",\"type\":\"string\",\"nullable\":true,\"metadata\":{}},{\"name\":\"version\",\"type\":\"string\",\"nullable\":true,\"metadata\":{}},{\"name\":\"type\",\"type\":\"string\",\"nullable\":true,\"metadata\":{}},{\"name\":\"important\",\"type\":\"string\",\"nullable\":true,\"metadata\":{}}]},\"allAttributes\":{\"id\":4,\"attrs\":[{\"id\":5,\"name\":\"dependency\",\"dataType\":\"string\",\"nullable\":true,\"metadata\":{\"id\":6,\"map\":{}},\"exprId\":{\"id\":7,\"id\":16,\"jvmId\":\"db8adb81-ffc4-4a95-9a9c-86d701eed7a7\"},\"qualifier\":[],\"origin\":{\"id\":8,\"line\":null,\"startPosition\":null},\"deterministic\":true,\"resolved\":true},{\"id\":9,\"name\":\"package\",\"dataType\":\"string\",\"nullable\":true,\"metadata\":6,\"exprId\":{\"id\":10,\"id\":17,\"jvmId\":\"db8adb81-ffc4-4a95-9a9c-86d701eed7a7\"},\"qualifier\":[],\"origin\":8,\"deterministic\":true,\"resolved\":true},{\"id\":11,\"name\":\"version\",\"dataType\":\"string\",\"nullable\":true,\"metadata\":6,\"exprId\":{\"id\":12,\"id\":18,\"jvmId\":\"db8adb81-ffc4-4a95-9a9c-86d701eed7a7\"},\"qualifier\":[],\"origin\":8,\"deterministic\":true,\"resolved\":true},{\"id\":13,\"name\":\"type\",\"dataType\":\"string\",\"nullable\":true,\"metadata\":6,\"exprId\":{\"id\":14,\"id\":19,\"jvmId\":\"db8adb81-ffc4-4a95-9a9c-86d701eed7a7\"},\"qualifier\":[],\"origin\":8,\"deterministic\":true,\"resolved\":true},{\"id\":15,\"name\":\"important\",\"dataType\":\"string\",\"nullable\":true,\"metadata\":6,\"exprId\":{\"id\":16,\"id\":20,\"jvmId\":\"db8adb81-ffc4-4a95-9a9c-86d701eed7a7\"},\"qualifier\":[],\"origin\":8,\"deterministic\":true,\"resolved\":true}]},\"resolved\":true,\"validConstraints\":[],\"statsCache\":null,\"streaming\":false,\"traceEnabled\":false,\"canonicalizedPlan\":false},\"inputAttributes\":[{\"name\":\"version\",\"type\":\"string\",\"metadata\":{}},{\"name\":\"type\",\"type\":\"string\",\"metadata\":{}},{\"name\":\"dependency\",\"type\":\"string\",\"metadata\":{}},{\"name\":\"important\",\"type\":\"string\",\"metadata\":{}},{\"name\":\"package\",\"type\":\"string\",\"metadata\":{}}],\"outputAttributes\":[{\"name\":\"version\",\"type\":\"string\",\"metadata\":{}},{\"name\":\"type\",\"type\":\"string\",\"metadata\":{}},{\"name\":\"dependency\",\"type\":\"string\",\"metadata\":{}},{\"name\":\"important\",\"type\":\"string\",\"metadata\":{}},{\"name\":\"package\",\"type\":\"string\",\"metadata\":{}}]},\"inputs\":[]}}},\"job\":{\"namespace\":\"spark_integration\",\"name\":\"openlineage_spark_demo.collect_limit\",\"facets\":{}},\"inputs\":[{\"namespace\":\"file\",\"name\":\"/home/jovyan/notebooks\",\"facets\":{\"dataSource\":{\"_producer\":\"https://github.com/OpenLineage/OpenLineage/tree/0.6.0/integration/spark\",\"_schemaURL\":\"https://openlineage.io/spec/facets/1-0-0/DatasourceDatasetFacet.json#/$defs/DatasourceDatasetFacet\",\"name\":\"file\",\"uri\":\"file\"},\"schema\":{\"_producer\":\"https://github.com/OpenLineage/OpenLineage/tree/0.6.0/integration/spark\",\"_schemaURL\":\"https://openlineage.io/spec/facets/1-0-0/SchemaDatasetFacet.json#/$defs/SchemaDatasetFacet\",\"fields\":[{\"name\":\"dependency\",\"type\":\"string\"},{\"name\":\"package\",\"type\":\"string\"},{\"name\":\"version\",\"type\":\"string\"},{\"name\":\"type\",\"type\":\"string\"},{\"name\":\"important\",\"type\":\"string\"}]}},\"inputFacets\":{}}],\"outputs\":[],\"producer\":\"https://github.com/OpenLineage/OpenLineage/tree/0.6.0/integration/spark\",\"schemaURL\":\"https://openlineage.io/spec/1-0-2/OpenLineage.json#/$defs/RunEvent\"}\n",
      "OpenLineageHttpException(code=0, message=java.lang.RuntimeException: java.util.concurrent.ExecutionException: openlineage.hc.core5.http.ProtocolException: Target host is not specified, details=java.util.concurrent.CompletionException: java.lang.RuntimeException: java.util.concurrent.ExecutionException: openlineage.hc.core5.http.ProtocolException: Target host is not specified)\n",
      "\tat io.openlineage.spark.agent.EventEmitter.emit(EventEmitter.java:67)\n",
      "\tat io.openlineage.spark.agent.lifecycle.SparkSQLExecutionContext.end(SparkSQLExecutionContext.java:89)\n",
      "\tat io.openlineage.spark.agent.OpenLineageSparkListener.sparkSQLExecEnd(OpenLineageSparkListener.java:151)\n",
      "\tat io.openlineage.spark.agent.OpenLineageSparkListener.onOtherEvent(OpenLineageSparkListener.java:137)\n",
      "\tat org.apache.spark.scheduler.SparkListenerBus.doPostEvent(SparkListenerBus.scala:100)\n",
      "\tat org.apache.spark.scheduler.SparkListenerBus.doPostEvent$(SparkListenerBus.scala:28)\n",
      "\tat org.apache.spark.scheduler.AsyncEventQueue.doPostEvent(AsyncEventQueue.scala:37)\n",
      "\tat org.apache.spark.scheduler.AsyncEventQueue.doPostEvent(AsyncEventQueue.scala:37)\n",
      "\tat org.apache.spark.util.ListenerBus.postToAll(ListenerBus.scala:117)\n",
      "\tat org.apache.spark.util.ListenerBus.postToAll$(ListenerBus.scala:101)\n",
      "\tat org.apache.spark.scheduler.AsyncEventQueue.super$postToAll(AsyncEventQueue.scala:105)\n",
      "\tat org.apache.spark.scheduler.AsyncEventQueue.$anonfun$dispatch$1(AsyncEventQueue.scala:105)\n",
      "\tat scala.runtime.java8.JFunction0$mcJ$sp.apply(JFunction0$mcJ$sp.java:23)\n",
      "\tat scala.util.DynamicVariable.withValue(DynamicVariable.scala:62)\n",
      "\tat org.apache.spark.scheduler.AsyncEventQueue.org$apache$spark$scheduler$AsyncEventQueue$$dispatch(AsyncEventQueue.scala:100)\n",
      "\tat org.apache.spark.scheduler.AsyncEventQueue$$anon$2.$anonfun$run$1(AsyncEventQueue.scala:96)\n",
      "\tat org.apache.spark.util.Utils$.tryOrStopSparkContext(Utils.scala:1381)\n",
      "\tat org.apache.spark.scheduler.AsyncEventQueue$$anon$2.run(AsyncEventQueue.scala:96)\n"
     ]
    }
   ],
   "source": [
    "# Looks like spark.read doesn't trigger an OpenLineage event? Shouldn't we track reads as well?\n",
    "df = spark.read.format(\"csv\").option(\"header\",True).load(\"test.csv\")\n",
    "df.show()"
   ]
  },
  {
   "cell_type": "code",
   "execution_count": null,
   "id": "2cf57062",
   "metadata": {},
   "outputs": [],
   "source": [
    "# note that this triggers a OpenLineage event with data source as \"Notebooks\", as opposed to test.csv\n",
    "# seem to be a bug\n",
    "\n",
    "df.groupBy('dependency').count().write.option(\"header\",True).mode(\"overwrite\").csv(\"dependency_count.csv\")\n"
   ]
  },
  {
   "cell_type": "code",
   "execution_count": null,
   "id": "3d08dcbc",
   "metadata": {},
   "outputs": [],
   "source": [
    "# what if we break this op up\n",
    "df1 = df.groupBy('dependency').count()\n",
    "df1.write.option(\"header\",True).mode(\"overwrite\").csv(\"dependency_count2.csv\")\n"
   ]
  },
  {
   "cell_type": "code",
   "execution_count": null,
   "id": "81692ae4",
   "metadata": {},
   "outputs": [],
   "source": [
    "df1.write.option(\"header\",True).mode(\"overwrite\").csv(\"dependency_count3.csv\")\n"
   ]
  },
  {
   "cell_type": "code",
   "execution_count": null,
   "id": "18b0dc50",
   "metadata": {},
   "outputs": [],
   "source": [
    "rownum = df.count()\n",
    "spark.sparkContext.parallelize([rownum]).coalesce(1).saveAsTextFile(\"rownum.txt\")"
   ]
  },
  {
   "cell_type": "markdown",
   "id": "d412eadc",
   "metadata": {},
   "source": [
    "# Junk code below"
   ]
  },
  {
   "cell_type": "code",
   "execution_count": null,
   "id": "67a7ca4e",
   "metadata": {},
   "outputs": [],
   "source": [
    "type(None)"
   ]
  },
  {
   "cell_type": "code",
   "execution_count": null,
   "id": "a094f605",
   "metadata": {},
   "outputs": [],
   "source": []
  },
  {
   "cell_type": "code",
   "execution_count": null,
   "id": "88cb1481",
   "metadata": {},
   "outputs": [],
   "source": [
    "df.dtypes"
   ]
  },
  {
   "cell_type": "code",
   "execution_count": null,
   "id": "c2e9ff3f",
   "metadata": {},
   "outputs": [],
   "source": [
    "df.schema.fields"
   ]
  },
  {
   "cell_type": "code",
   "execution_count": null,
   "id": "06c44272",
   "metadata": {},
   "outputs": [],
   "source": [
    "from pyspark.sql import DataFrame\n",
    "from pyspark.rdd import RDD\n",
    "\n",
    "def foo(x):\n",
    "    if isinstance(x, RDD):\n",
    "        return \"RDD\"\n",
    "    if isinstance(x, DataFrame):\n",
    "        return \"DataFrame\"\n",
    "\n",
    "print(foo(spark.sparkContext.parallelize([])))\n",
    "## 'RDD'\n",
    "print(foo(spark.sparkContext.parallelize([(\"foo\", 1)]).toDF()))\n",
    "## 'DataFrame'\n",
    "\n",
    "#isinstance(df, \"pyspark.sql.dataframe.DataFrame\")"
   ]
  },
  {
   "cell_type": "code",
   "execution_count": null,
   "id": "9b7f0acc",
   "metadata": {},
   "outputs": [],
   "source": [
    "!pip install marquez-python"
   ]
  },
  {
   "cell_type": "code",
   "execution_count": null,
   "id": "5d2ab20a",
   "metadata": {},
   "outputs": [],
   "source": [
    "from marquez_client import MarquezClient\n",
    "\n",
    "client = MarquezClient(url='http://marquez_api:5000')\n",
    "\n",
    "# list namespaces\n",
    "client.list_namespaces()\n"
   ]
  },
  {
   "cell_type": "code",
   "execution_count": null,
   "id": "0d836cd6",
   "metadata": {},
   "outputs": [],
   "source": []
  },
  {
   "cell_type": "code",
   "execution_count": null,
   "id": "5b3efecb",
   "metadata": {},
   "outputs": [],
   "source": []
  },
  {
   "cell_type": "code",
   "execution_count": null,
   "id": "71c084af",
   "metadata": {},
   "outputs": [],
   "source": [
    "!pip install openlineage-python"
   ]
  },
  {
   "cell_type": "code",
   "execution_count": null,
   "id": "b271b55a",
   "metadata": {},
   "outputs": [],
   "source": [
    "from openlineage.client.client import OpenLineageClient\n",
    "from openlineage.client.run import RunEvent, RunState, Run, Job\n",
    "from unittest.mock import MagicMock\n",
    "\n",
    "session = MagicMock()\n",
    "client = OpenLineageClient(url=\"http://192.168.86.39:5000\", session=None)\n",
    "\n",
    "client.emit(\n",
    "    RunEvent(\n",
    "        RunState.START,\n",
    "        \"2020-01-01\",\n",
    "        Run(\"69f4acab-b87d-4fc0-b27b-8ea950370ff3\"),\n",
    "        Job(\"openlineage\", \"job\"),\n",
    "        \"producer\"\n",
    "    )\n",
    ")"
   ]
  },
  {
   "cell_type": "code",
   "execution_count": null,
   "id": "0370465c",
   "metadata": {},
   "outputs": [],
   "source": [
    "session.post.assert_called_with(\n",
    "    \"http://marquez-api2:5000/api/v1/lineage\",\n",
    "    '{\"eventTime\": \"2020-01-01\", \"eventType\": \"START\", \"inputs\": [], \"job\": '\n",
    "    '{\"facets\": {}, \"name\": \"job\", \"namespace\": \"openlineage\"}, \"outputs\": [], '\n",
    "    '\"producer\": \"producer\", \"run\": {\"facets\": {}, \"runId\": '\n",
    "    '\"69f4acab-b87d-4fc0-b27b-8ea950370ff3\"}}',\n",
    "    timeout=5.0,\n",
    "    verify=True\n",
    ")"
   ]
  },
  {
   "cell_type": "code",
   "execution_count": null,
   "id": "d3a2265f",
   "metadata": {},
   "outputs": [],
   "source": [
    "from openlineage.client import constants\n",
    "from openlineage.client.run import RunEvent\n",
    "from openlineage.client.serde import Serde\n",
    "\n",
    "import requests\n",
    "url = 'http://192.168.86.39:5000/api/v1/lineage'\n",
    "headers = {\"charset\": \"utf-8\", \"Content-Type\": \"application/json\"}\n"
   ]
  },
  {
   "cell_type": "code",
   "execution_count": null,
   "id": "b1bba3d7",
   "metadata": {},
   "outputs": [],
   "source": [
    "data"
   ]
  },
  {
   "cell_type": "code",
   "execution_count": null,
   "id": "69d4846f",
   "metadata": {},
   "outputs": [],
   "source": [
    "data = Serde.to_json(RunEvent(\n",
    "        RunState.START,\n",
    "        \"2020-01-01\",\n",
    "        Run(\"69f4acab-b87d-4fc0-b27b-8ea950370ff3\"),\n",
    "        Job(\"openlineage\", \"job\"),\n",
    "        \"producer\"\n",
    "    ))\n",
    "r = requests.post(url, data=data, headers=headers)\n",
    "r.text"
   ]
  },
  {
   "cell_type": "code",
   "execution_count": null,
   "id": "5027a056",
   "metadata": {},
   "outputs": [],
   "source": [
    "data = \"\"\"{\n",
    "        \"eventType\": \"START\",\n",
    "        \"eventTime\": \"2020-12-28T19:52:00.001+10:00\",\n",
    "        \"run\": {\n",
    "          \"runId\": \"d46e465b-d358-4d32-83d4-df660ff614dd\"\n",
    "        },\n",
    "        \"job\": {\n",
    "          \"namespace\": \"gary-namespace\",\n",
    "          \"name\": \"my-job\"\n",
    "        },\n",
    "        \"inputs\": [{\n",
    "          \"namespace\": \"gary-namespace\",\n",
    "          \"name\": \"my-input\"\n",
    "        }],  \n",
    "        \"producer\": \"https://github.com/OpenLineage/OpenLineage/blob/v1-0-0/client\"\n",
    "      }\"\"\"\n",
    "r = requests.post(url, data=data, headers=headers)\n",
    "r.text"
   ]
  },
  {
   "cell_type": "code",
   "execution_count": null,
   "id": "f435340c",
   "metadata": {},
   "outputs": [],
   "source": [
    "data2 = \"\"\"{\n",
    "        \"eventType\": \"COMPLETE\",\n",
    "        \"eventTime\": \"2020-12-28T20:52:00.001+10:00\",\n",
    "        \"run\": {\n",
    "          \"runId\": \"d46e465b-d358-4d32-83d4-df660ff614dd\"\n",
    "        },\n",
    "        \"job\": {\n",
    "          \"namespace\": \"gary-namespace\",\n",
    "          \"name\": \"my-job\"\n",
    "        },\n",
    "        \"outputs\": [{\n",
    "          \"namespace\": \"gary-namespace\",\n",
    "          \"name\": \"my-output\",\n",
    "          \"facets\": {\n",
    "            \"schema\": {\n",
    "              \"_producer\": \"https://github.com/OpenLineage/OpenLineage/blob/v1-0-0/client\",\n",
    "              \"_schemaURL\": \"https://github.com/OpenLineage/OpenLineage/blob/v1-0-0/spec/OpenLineage.json#/definitions/SchemaDatasetFacet\",\n",
    "              \"fields\": [\n",
    "                { \"name\": \"a\", \"type\": \"VARCHAR\"},\n",
    "                { \"name\": \"b\", \"type\": \"VARCHAR\"}\n",
    "              ]\n",
    "            }\n",
    "          }\n",
    "        }],     \n",
    "        \"producer\": \"https://github.com/OpenLineage/OpenLineage/blob/v1-0-0/client\"\n",
    "      }\"\"\"\n",
    "\n",
    "r = requests.post(url, data=data2, headers=headers)\n",
    "r.text"
   ]
  },
  {
   "cell_type": "code",
   "execution_count": null,
   "id": "5b19cf32",
   "metadata": {},
   "outputs": [],
   "source": []
  }
 ],
 "metadata": {
  "kernelspec": {
   "display_name": "Python 3 (ipykernel)",
   "language": "python",
   "name": "python3"
  },
  "language_info": {
   "codemirror_mode": {
    "name": "ipython",
    "version": 3
   },
   "file_extension": ".py",
   "mimetype": "text/x-python",
   "name": "python",
   "nbconvert_exporter": "python",
   "pygments_lexer": "ipython3",
   "version": "3.9.7"
  }
 },
 "nbformat": 4,
 "nbformat_minor": 5
}
